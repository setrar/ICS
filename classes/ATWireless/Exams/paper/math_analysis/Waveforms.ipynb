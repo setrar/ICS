{
 "cells": [
  {
   "cell_type": "markdown",
   "id": "cdc8e0b8-4a9d-47da-bde6-de502bf1705d",
   "metadata": {},
   "source": [
    "$\n",
    "\\mathbf{X} = \\sqrt{T} (\\tilde{\\mathbf{R}}_X^{SC})^{\\frac{1}{2}} \\mathbf{Q} = \\sqrt{T} {\\color{orange}\\mathbf{U}_S \\mathbf{\\Lambda}_S^{\\frac{1}{2}}} {\\color{purple}\\mathbf{Q}} \\qquad\n",
    "\\mathbf{X} = \\sqrt{T} (\\tilde{\\mathbf{R}}_X^{CS})^{\\frac{1}{2}} \\mathbf{D} = \\sqrt{T} {\\color{orange}\\mathbf{U}_c \\mathbf{\\Lambda}_c^{\\frac{1}{2}}} {\\color{purple}\\mathbf{D}}\n",
    "$"
   ]
  },
  {
   "cell_type": "markdown",
   "id": "7f5287e5-1d3a-485d-abdf-47378f4917e8",
   "metadata": {},
   "source": [
    "Randomness of the ISAC signal reduces when moving from  $P_{CS}$ to $P_{SC}$\n"
   ]
  },
  {
   "cell_type": "markdown",
   "id": "1e51a4d0-8c3a-4140-ace0-47b7439808f6",
   "metadata": {},
   "source": [
    "The equation \n",
    "$\n",
    "\\mathbf{X} = \\sqrt{T} (\\tilde{\\mathbf{R}}_X^{SC})^{\\frac{1}{2}} \\mathbf{Q} = \\sqrt{T} \\mathbf{U}_S \\mathbf{\\Lambda}_S^{\\frac{1}{2}} \\mathbf{Q}\n",
    "$\n",
    "describes the ISAC signal $\\mathbf{X}$, balancing sensing and communication as follows:\n",
    "\n",
    "1. **Sensing Component**:\n",
    "   - $\\mathbf{U}_S \\mathbf{\\Lambda}_S^{\\frac{1}{2}}$: Encodes deterministic spatial modes and energy allocation for accurate sensing (e.g., beamforming).\n",
    "\n",
    "2. **Communication Component**:\n",
    "   - $\\mathbf{Q}$: Adds randomness for robust and efficient communication.\n",
    "\n",
    "3. **Scaling**:\n",
    "   - $\\sqrt{T}$: Scales the signal energy with the number of samples or time duration.\n",
    "\n",
    "This structure ensures $\\mathbf{X}$ satisfies statistical and energy constraints, achieving a tradeoff between sensing accuracy and communication efficiency."
   ]
  },
  {
   "cell_type": "markdown",
   "id": "500924da-9cce-4465-884c-15ada2351540",
   "metadata": {},
   "source": [
    "The equation \n",
    "\n",
    "$\n",
    "\\mathbf{X} = \\sqrt{T} (\\tilde{\\mathbf{R}}_X^{CS})^{\\frac{1}{2}} \\mathbf{D} = \\sqrt{T} {\\color{orange}\\mathbf{U}_c \\mathbf{\\Lambda}_c^{\\frac{1}{2}}} {\\color{purple}\\mathbf{D}}\n",
    "$\n",
    "\n",
    "describes a **communication-focused ISAC signal**:\n",
    "\n",
    "- **$\\tilde{\\mathbf{R}}_X^{CS}$**: Covariance matrix balancing sensing-communication tradeoffs, optimized for communication.\n",
    "- **${\\color{orange}\\mathbf{U}_c \\mathbf{\\Lambda}_c^{\\frac{1}{2}}}$**: Determines spatial directions ($\\mathbf{U}_c$) and power allocation ($\\mathbf{\\Lambda}_c^{\\frac{1}{2}}$) for communication.\n",
    "- **${\\color{purple}\\mathbf{D}}$**: Random component enhancing spectral efficiency and robustness.\n",
    "- **$\\sqrt{T}$**: Scales signal energy based on transmission duration or sample size.\n",
    "\n",
    "This structure ensures high communication performance while maintaining ISAC compatibility."
   ]
  },
  {
   "cell_type": "code",
   "execution_count": null,
   "id": "5a7e4a02-af21-4ccd-b5bb-e3d7342c449f",
   "metadata": {},
   "outputs": [],
   "source": []
  }
 ],
 "metadata": {
  "kernelspec": {
   "display_name": "Julia 1.11.1",
   "language": "julia",
   "name": "julia-1.11"
  },
  "language_info": {
   "file_extension": ".jl",
   "mimetype": "application/julia",
   "name": "julia",
   "version": "1.11.1"
  }
 },
 "nbformat": 4,
 "nbformat_minor": 5
}
