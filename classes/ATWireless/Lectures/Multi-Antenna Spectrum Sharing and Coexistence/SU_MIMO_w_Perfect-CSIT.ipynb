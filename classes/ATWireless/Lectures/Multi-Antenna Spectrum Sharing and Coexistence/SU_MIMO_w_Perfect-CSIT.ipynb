{
 "cells": [
  {
   "cell_type": "markdown",
   "id": "24a05387-74cb-4710-a584-038b7d0f4c59",
   "metadata": {},
   "source": [
    "# SU MIMO w Perfect CSIT"
   ]
  },
  {
   "cell_type": "markdown",
   "id": "c2b5aaf6-76bc-4689-84bb-f9f1345496f9",
   "metadata": {},
   "source": [
    "## Optimal Tx Covariance"
   ]
  },
  {
   "cell_type": "markdown",
   "id": "3bc26a6e-0108-40a0-b97a-5d98b200c94f",
   "metadata": {},
   "source": [
    "**SU-MIMO with Perfect CSIT** refers to a MIMO system where:\n",
    "\n",
    "- **Single-User (SU)**: Only one user is served at a time.\n",
    "- **MIMO**: Both the transmitter and receiver have multiple antennas.\n",
    "- **Perfect CSIT**: The transmitter has complete knowledge of the channel conditions.\n",
    "\n",
    "With perfect CSIT, the transmitter can:\n",
    "1. **Beamform** signals directly to the receiver.\n",
    "2. **Use Spatial Multiplexing** to send multiple data streams, increasing data rates.\n",
    "3. **Optimize Power Allocation** (e.g., via waterfilling) to maximize capacity.\n",
    "\n",
    "This setup maximizes data throughput and reliability but relies on accurate, real-time channel information, ideal for stable or point-to-point connections."
   ]
  },
  {
   "cell_type": "markdown",
   "id": "bfae34bf-c4b3-43fe-80b8-f8b847f1e95f",
   "metadata": {},
   "source": [
    "- Rx signal: $ \\mathbf{y}_k = \\mathbf{H} \\mathbf{x}_k + \\mathbf{v}_k $. For a given known time-invariant channel $ \\mathbf{H} $, in the presence of additive spatiotemporal white Gaussian noise and under a Tx power constraint, the mutual information maximizing input is a stationary temporally white Gaussian noise $ \\mathbf{x}_k $.\n",
    "\n",
    "- Its spatial covariance $ \\mathbf{C}_{xx} = E \\{ \\mathbf{x} \\mathbf{x}^H \\} = \\mathbf{G} \\mathbf{C}_{ss} \\mathbf{G}^H = \\mathbf{G} \\mathbf{G}^H $ can be interpreted as the covariance of i.i.d. streams $ \\mathbf{s} $ spatially filtered by $ \\mathbf{G} $: $ \\mathbf{x} = \\mathbf{G} \\mathbf{s} $.\n",
    "\n",
    "- The capacity achieving optimal Tx filter $\\mathbf{G}$ can be found as\n",
    "\n",
    "$$\n",
    "\\begin{align}\n",
    "C &= \\max_{\\mathbf{G} : \\operatorname{tr}(\\mathbf{G} \\mathbf{G}^H) = P} \\log_2 \\det \\left( \\mathbf{I} + \\frac{1}{\\sigma_v^2} \\mathbf{H} \\mathbf{G} \\mathbf{G}^H \\mathbf{H}^H \\right) \\\\\n",
    "&= \\max_{\\mathbf{G} : \\operatorname{tr}(\\mathbf{G} \\mathbf{G}^H) = P} \\log_2 \\det \\left( \\mathbf{I} + \\frac{1}{\\sigma_v^2} \\mathbf{U} \\mathbf{\\Sigma} \\mathbf{V}^H \\mathbf{G} \\mathbf{G}^H \\mathbf{V} \\mathbf{\\Sigma}^H \\mathbf{U}^H \\right) \\\\\n",
    "&= \\max_{\\mathbf{G} : \\operatorname{tr}(\\mathbf{G} \\mathbf{G}^H) = P} \\log_2 \\det \\left( \\mathbf{I} + \\frac{1}{\\sigma_v^2} \\mathbf{\\Sigma} \\mathbf{V}^H \\mathbf{G} \\mathbf{G}^H \\mathbf{V} \\mathbf{\\Sigma}^H \\right) \\\\\n",
    "&= \\max_{\\mathbf{G} : \\operatorname{tr}(\\mathbf{G} \\mathbf{G}^H) = P} \\log_2 \\det \\left( \\mathbf{I} + \\frac{1}{\\sigma_v^2} \\mathbf{\\Sigma} \\mathbf{V}^H \\mathbf{G} \\mathbf{G}^H \\mathbf{V} \\mathbf{\\Sigma} \\right) \\\\\n",
    "&= \\max_{\\mathbf{P} : \\operatorname{tr}(\\mathbf{P}) = P} \\log_2 \\det \\left( \\mathbf{I} + \\frac{1}{\\sigma_v^2} \\mathbf{P} \\mathbf{\\Sigma} \\right)\n",
    "\\end{align}\n",
    "$$\n",
    "\n",
    "where we used $ \\det(\\mathbf{I} + \\mathbf{X} \\mathbf{Y}) = \\det(\\mathbf{I} + \\mathbf{Y} \\mathbf{X}) $, $ \\mathbf{U}^H \\mathbf{U} = \\mathbf{I} $, and we introduced the transformation $ \\mathbf{G} \\mathbf{G}^H = \\mathbf{V} \\mathbf{P} \\mathbf{V}^H $ in which $ \\mathbf{P} = \\mathbf{P}^H \\geq 0 $.\n",
    "\n",
    "- Note that for the diagonal part:  \n",
    "  $\n",
    "  \\operatorname{diag} \\left\\{ \\mathbf{I} + \\frac{1}{\\sigma_v^2} \\mathbf{P} \\mathbf{\\Sigma}^H \\mathbf{\\Sigma} \\right\\} = \\mathbf{I} + \\frac{1}{\\sigma_v^2} \\mathbf{\\Sigma}^H \\mathbf{\\Sigma} \\operatorname{diag}(\\mathbf{P}),\n",
    "  $\n",
    "  whereas the power constraint only depends on $ \\operatorname{diag}(\\mathbf{P}) $. On the other hand, for given (fixed) $ \\operatorname{diag}(\\mathbf{A}) $ with $ \\mathbf{A} = \\mathbf{A}^H \\geq 0 $,\n",
    "  $\n",
    "  \\det(\\mathbf{A}) \\leq \\det(\\operatorname{diag}(\\mathbf{A})) \\quad (\\text{off-diagonal elements lower the determinant}).\n",
    "  $\n",
    "  Hence the optimal $ \\mathbf{P} $ is diagonal. Optimal Tx filter:  $\n",
    "  \\mathbf{G} = \\mathbf{V} \\mathbf{P}^{\\frac{1}{2}}.\n",
    "  $"
   ]
  },
  {
   "cell_type": "code",
   "execution_count": 1,
   "id": "f0292bf7-d3bb-4f43-b768-5ea4d5f5943d",
   "metadata": {},
   "outputs": [],
   "source": [
    "## Water Filling"
   ]
  },
  {
   "cell_type": "markdown",
   "id": "1ec49be0-b87a-42f6-8c20-18542dfc385b",
   "metadata": {},
   "source": [
    "- **Stream power optimization** (with $ r = \\min(M, N) $)\n",
    "\n",
    "$\n",
    "\\begin{align}\n",
    "  C &= \\max_{\\mathbf{P} : \\operatorname{tr}\\{\\mathbf{P}\\} = P} \\log_2 \\det \\left( \\mathbf{I} + \\frac{1}{\\sigma_v^2} \\mathbf{P} \\mathbf{\\Sigma}^H \\mathbf{\\Sigma} \\right) \\\\\n",
    "  & = \\max_{p_i \\geq 0 : \\sum_{i=1}^r p_i = P} \\sum_{i=1}^r \\log_2 \\left( 1 + \\frac{p_i \\sigma_i^2}{\\sigma_v^2} \\right)\n",
    "\\end{align}\n",
    "$\n",
    "\n",
    "- **Lagrangian**:\n",
    "  $\n",
    "  \\sum_{i=1}^r \\log_2 \\left( 1 + \\frac{p_i \\sigma_i^2}{\\sigma_v^2} \\right) + \\lambda \\left( P - \\sum_{i=1}^r p_i \\right)\n",
    "  $\n",
    "  of which the derivative w.r.t. $ p_i $ gives\n",
    "  $\n",
    "  \\frac{\\sigma_i^2}{\\sigma_v^2} / \\left( 1 +  \\frac{p_i \\sigma_i^2}{\\sigma_v^2} \\right)  = \\lambda \\ln 2 \\quad (\\text{if } p_i > 0).\n",
    "  $\n",
    "  Together with the requirement $ p_i \\geq 0 $ this leads to\n",
    "  $$\n",
    "  p_i = \\left[ \\frac{1}{\\lambda \\ln 2} - \\frac{\\sigma_v^2}{\\sigma_i^2} \\right]_+\n",
    "   (= [\\nu - N_i]_+ \\text{ in figure})\n",
    "  $$\n",
    "\n",
    "  where $ [\\cdot]_+ $ denotes the non-negative part of the argument, and the Lagrange multiplier $ \\lambda $ can be determined by the bisection method to satisfy $ \\sum_{i=1}^r p_i = P $."
   ]
  },
  {
   "cell_type": "markdown",
   "id": "22c028aa-5ebc-4213-bd54-93a9bfada446",
   "metadata": {},
   "source": [
    "---\n",
    "# References"
   ]
  },
  {
   "cell_type": "markdown",
   "id": "ab00781e-93ff-4a28-8ca6-d1a2ead0dc51",
   "metadata": {},
   "source": [
    "#### Derivation of **capacity $ C $**\n",
    "\n",
    "This derivation simplifies the expression for the **capacity $ C $** of a **MIMO (Multiple Input Multiple Output) channel** by using **Singular Value Decomposition (SVD)** and other matrix properties. Let’s go through each step in detail:\n",
    "\n",
    "### Starting Expression\n",
    "\n",
    "1. **Initial Expression for Capacity**:\n",
    "   $\n",
    "   C = \\max_{\\mathbf{G} : \\operatorname{tr}(\\mathbf{G} \\mathbf{G}^H) = P} \\log_2 \\det \\left( \\mathbf{I} + \\frac{1}{\\sigma_v^2} \\mathbf{H} \\mathbf{G} \\mathbf{G}^H \\mathbf{H}^H \\right)\n",
    "   $\n",
    "   Here:\n",
    "   - $ \\mathbf{H} $ is the channel matrix.\n",
    "   - $ \\mathbf{G} $ is a precoding matrix at the transmitter, with a trace constraint $ \\operatorname{tr}(\\mathbf{G} \\mathbf{G}^H) = P $ representing a power limit.\n",
    "   - $ \\sigma_v^2 $ is the noise variance.\n",
    "\n",
    "### Step 1: Apply Singular Value Decomposition (SVD) to $ \\mathbf{H} $\n",
    "\n",
    "2. **Using SVD on $ \\mathbf{H} $**:\n",
    "   $\n",
    "   \\mathbf{H} = \\mathbf{U} \\mathbf{\\Sigma} \\mathbf{V}^H\n",
    "   $\n",
    "   where:\n",
    "   - $ \\mathbf{U} $ and $ \\mathbf{V} $ are unitary matrices.\n",
    "   - $ \\mathbf{\\Sigma} $ is a diagonal matrix containing the singular values of $ \\mathbf{H} $.\n",
    "   \n",
    "   Substitute $ \\mathbf{H} = \\mathbf{U} \\mathbf{\\Sigma} \\mathbf{V}^H $ into the expression:\n",
    "   $\n",
    "   C = \\max_{\\mathbf{G} : \\operatorname{tr}(\\mathbf{G} \\mathbf{G}^H) = P} \\log_2 \\det \\left( \\mathbf{I} + \\frac{1}{\\sigma_v^2} \\mathbf{U} \\mathbf{\\Sigma} \\mathbf{V}^H \\mathbf{G} \\mathbf{G}^H \\mathbf{V} \\mathbf{\\Sigma}^H \\mathbf{U}^H \\right)\n",
    "   $\n",
    "\n",
    "### Step 2: Simplify Using Unitary Properties of $ \\mathbf{U} $\n",
    "\n",
    "3. **Simplify with Unitary Matrix Properties**:\n",
    "   - Since $ \\mathbf{U} $ and $ \\mathbf{U}^H $ are unitary, they cancel out under the determinant.\n",
    "   - The property $ \\det(\\mathbf{U} \\mathbf{A} \\mathbf{U}^H) = \\det(\\mathbf{A}) $ for unitary $ \\mathbf{U} $ simplifies the expression to:\n",
    "   $\n",
    "   C = \\max_{\\mathbf{G} : \\operatorname{tr}(\\mathbf{G} \\mathbf{G}^H) = P} \\log_2 \\det \\left( \\mathbf{I} + \\frac{1}{\\sigma_v^2} \\mathbf{\\Sigma} \\mathbf{V}^H \\mathbf{G} \\mathbf{G}^H \\mathbf{V} \\mathbf{\\Sigma}^H \\right)\n",
    "   $\n",
    "\n",
    "### Step 3: Further Simplification\n",
    "\n",
    "4. **Rewrite with $ \\mathbf{\\Sigma} \\mathbf{\\Sigma}^H $**:\n",
    "   - Since $ \\mathbf{\\Sigma} $ is diagonal, $ \\mathbf{\\Sigma} \\mathbf{\\Sigma}^H = \\mathbf{\\Sigma}^2 $ (which is also diagonal).\n",
    "   - The expression becomes:\n",
    "   $\n",
    "   C = \\max_{\\mathbf{G} : \\operatorname{tr}(\\mathbf{G} \\mathbf{G}^H) = P} \\log_2 \\det \\left( \\mathbf{I} + \\frac{1}{\\sigma_v^2} \\mathbf{\\Sigma} \\mathbf{V}^H \\mathbf{G} \\mathbf{G}^H \\mathbf{V} \\mathbf{\\Sigma} \\right)\n",
    "   $\n",
    "\n",
    "### Step 4: Define a New Variable $ \\mathbf{P} = \\mathbf{V}^H \\mathbf{G} $\n",
    "\n",
    "5. **Substitute $ \\mathbf{P} = \\mathbf{V}^H \\mathbf{G} $**:\n",
    "   - Let $ \\mathbf{P} = \\mathbf{V}^H \\mathbf{G} $, which means $ \\operatorname{tr}(\\mathbf{P} \\mathbf{P}^H) = \\operatorname{tr}(\\mathbf{G} \\mathbf{G}^H) = P $.\n",
    "   - Now the expression becomes:\n",
    "   $\n",
    "   C = \\max_{\\mathbf{P} : \\operatorname{tr}(\\mathbf{P} \\mathbf{P}^H) = P} \\log_2 \\det \\left( \\mathbf{I} + \\frac{1}{\\sigma_v^2} \\mathbf{P} \\mathbf{\\Sigma} \\right)\n",
    "   $\n",
    "\n",
    "### Final Simplified Expression\n",
    "\n",
    "6. **Final Capacity Formula**:\n",
    "   - The final expression for capacity is:\n",
    "   $\n",
    "   C = \\max_{\\mathbf{P} : \\operatorname{tr}(\\mathbf{P}) = P} \\log_2 \\det \\left( \\mathbf{I} + \\frac{1}{\\sigma_v^2} \\mathbf{P} \\mathbf{\\Sigma} \\right)\n",
    "   $\n",
    "   This final form expresses the capacity in terms of the diagonal matrix $ \\mathbf{\\Sigma} $ and a power allocation matrix $ \\mathbf{P} $."
   ]
  },
  {
   "cell_type": "code",
   "execution_count": 2,
   "id": "ce5d7386-dbc5-462e-a45c-9727996eb407",
   "metadata": {},
   "outputs": [
    {
     "name": "stdout",
     "output_type": "stream",
     "text": [
      "MIMO Channel Matrix (H):\n",
      "[1 2; 3 4]\n",
      "\n",
      "Left Singular Matrix (U):\n",
      "[-0.4045535848337569 -0.9145142956773042; -0.9145142956773044 0.404553584833757]\n",
      "\n",
      "Singular Values (Σ):\n",
      "[5.464985704219043, 0.3659661906262575]\n",
      "\n",
      "Right Singular Matrix (Vh):\n",
      "[-0.5760484367663209 0.8174155604703632; -0.8174155604703632 -0.5760484367663209]\n",
      "\n",
      "Reconstructed H from SVD:\n",
      "[1.0000000000000007 1.9999999999999998; 3.0 3.999999999999999]\n"
     ]
    }
   ],
   "source": [
    "# Import Linear Algebra package\n",
    "using LinearAlgebra\n",
    "\n",
    "# Define the MIMO channel matrix\n",
    "H = [1 2; 3 4]\n",
    "\n",
    "# Perform Singular Value Decomposition (SVD)\n",
    "U, Σ, Vh = svd(H)\n",
    "\n",
    "# Display the results\n",
    "println(\"MIMO Channel Matrix (H):\")\n",
    "println(H)\n",
    "println(\"\\nLeft Singular Matrix (U):\")\n",
    "println(U)\n",
    "println(\"\\nSingular Values (Σ):\")\n",
    "println(Σ)\n",
    "println(\"\\nRight Singular Matrix (Vh):\")\n",
    "println(Vh)\n",
    "\n",
    "# Check reconstruction: H = U * Σ * Vh'\n",
    "H_reconstructed = U * Diagonal(Σ) * Vh'\n",
    "println(\"\\nReconstructed H from SVD:\")\n",
    "println(H_reconstructed)"
   ]
  },
  {
   "cell_type": "code",
   "execution_count": null,
   "id": "24d6608e-05a4-4805-a699-31a9b28d53de",
   "metadata": {},
   "outputs": [],
   "source": []
  }
 ],
 "metadata": {
  "kernelspec": {
   "display_name": "Julia 1.11.1",
   "language": "julia",
   "name": "julia-1.11"
  },
  "language_info": {
   "file_extension": ".jl",
   "mimetype": "application/julia",
   "name": "julia",
   "version": "1.11.1"
  }
 },
 "nbformat": 4,
 "nbformat_minor": 5
}
