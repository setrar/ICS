{
 "cells": [
  {
   "cell_type": "markdown",
   "id": "ae221307-be54-4104-87a0-f97d2f08b38d",
   "metadata": {},
   "source": [
    "$$\\Huge{\\textbf{CLOUDS Assignment 1}}$$\n",
    "\n",
    "This assignment is a series of labs using the Azure cloud. You will get the play with two of the key\n",
    "virtualization technologies you learned about in lecture 2 (VM and containers). Before you do each\n",
    "part, go over all instructions. First, read all the resources and make a list of things to do and\n",
    "commands to run. This way you will get the complete workflow before you start doing things.\n",
    "\n",
    "Follow instructions in the book. Particularly, follow conventions in naming ResourceGroups and\n",
    "using them effective to group resources. Use a separate RG for each assignment. This way, later,\n",
    "you will be able to clearly see billing per RG this way, and also delete and deallocate resources\n",
    "easily."
   ]
  },
  {
   "cell_type": "markdown",
   "id": "19d0eb7f-42e7-4074-a885-38cdc24b82f6",
   "metadata": {},
   "source": [
    "# 1. Create a free Azure account"
   ]
  },
  {
   "cell_type": "markdown",
   "id": "36a688e3-a41c-4024-878b-852c41a5f9b2",
   "metadata": {},
   "source": [
    "1. Go to https://azure.microsoft.com/en-us/free/students/. Follow the instructions to create your\n",
    "account. Sign up for the Education account for Students. This will give you a 1 year credit for\n",
    "$100.\n",
    "2. Get AzureMol book (https://azure.microsoft.com/en-us/resources/learn-azure-in-a-month-of-lunches/). You can also get a copy from Moodle if you want.\n",
    "3. Read Chapter 1 from AzureMol book"
   ]
  },
  {
   "cell_type": "markdown",
   "id": "e969fb47-c5dd-4cb5-86d6-d8ff91d74d03",
   "metadata": {},
   "source": [
    "## 2. Deploy a website on Virtual Machine"
   ]
  },
  {
   "cell_type": "markdown",
   "id": "f30e660c-66d5-42ac-8b67-c4840f3cab16",
   "metadata": {},
   "source": [
    "1. Read AzureMol book chapter 2.1, 2.2, 2.3\n",
    "2. Create a Ubuntu virtual machine (basic B1 or similar free tier instance type) and install your\n",
    "favorite webserver(nginx, lamp-stack). You can follow the book’s advice.\n",
    "3. Update the default index.html with your own portfolio website with static HTML and optionally\n",
    "CSS files and images (a simple single page html will also be enough, no fancy web dev is\n",
    "required)."
   ]
  },
  {
   "cell_type": "markdown",
   "id": "79013a4e-488c-46dc-b6e0-75d2cf63f7d7",
   "metadata": {},
   "source": [
    "# 3. Provision disks in VM and measure IOPS"
   ]
  },
  {
   "cell_type": "markdown",
   "id": "2d49646e-7710-4649-a551-2b9cc7cbab05",
   "metadata": {},
   "source": [
    "1. Read AzureMol book chapter 4.1, 4.2, 4.3. Use https://learn.microsoft.com/en-us/azure/virtual-machines/linux/tutorial-manage-disks as a reference\n",
    "2. Resize vm you created earlier to get a DS2_V2 type or another which can allocate Premium SSD\n",
    "storage.\n",
    "3. Dynamically add 2 disks to the linux VM you created earlier – one of each StandardSSD_LRS,\n",
    "and Premium_LRS types.\n",
    "4. Format and mount file systems using the two disks (You can use the Microsoft learn resource as\n",
    "a reference)\n",
    "5. Install FIO (https://installati.one/ubuntu/20.04/fio/) and use it to measure the sequential\n",
    "throughput (for 64KB size) and random read IOPS (4KB size) on the two devices (FIO . Here’s\n",
    "an example: https://blog.purestorage.com/purely-technical/io-plumbing-tests-with-fio/. You don’t\n",
    "need to use same commands. Feel free to use your own. Also, you don’t need to run FIO for a\n",
    "long time. Once the file is created, you can run it for just one minute.\n",
    "6. Unmount the disks\n",
    "7. Detach the disks from running VM, delete the disks\n",
    "8. Resize the VM back to old config."
   ]
  },
  {
   "cell_type": "markdown",
   "id": "04c820ad-d86b-4952-a4f4-ae466c276eb5",
   "metadata": {},
   "source": [
    "# 4. Deploy dockerized static site via Azure ACR"
   ]
  },
  {
   "cell_type": "markdown",
   "id": "c9b83527-7f78-4f8d-a884-ca6bd927bd7f",
   "metadata": {},
   "source": [
    "1. Install docker within ubntu vm you created earlier\n",
    "- Use this as a reference for installation: https://docs.docker.com/engine/install/ubuntu/\n",
    "- After installing here’s permission setup you need to do to run docker as a non-root user: https://docs.docker.com/engine/install/linux-postinstall/\n",
    "- Tip: You need to logout and back in for permission to kick in\n",
    "2. Create a dockerized static site from within VM and verify with CURL\n",
    "- Use azuremol chapter 19.2 as reference for the Dockerfile (to get a nginx container that serves\n",
    "your static html)\n",
    "- Run docker locally in VM and use CURL or wget to verify your local docker deployment (curl\n",
    "http://localhost:80 should give you the html)\n",
    "3. Create ACR and get login server from Azure Shell\n",
    "- Use https://learn.microsoft.com/en-us/azure/container-instances/container-instances-tutorial-prepare-acr as reference\n",
    "- Tip: There is no need to login from azure shell, you just need the login server\n",
    "4. Push to ACR from within VM\n",
    "- Reference: https://learn.microsoft.com/en-us/azure/container-instances/container-instances-tutorial-prepare-acr\n",
    "- Tip: You have to docker login first before you can docker push (https://www.c-sharpcorner.com/article/push-pull-docker-image-with-azure-container-registry/)\n",
    "5. Deploy app and verify from Azure Shell\n",
    "- https://learn.microsoft.com/en-us/azure/container-instances/container-instances-tutorial-deploy-app\n",
    "- Tip: get fqdn and verify site is working (make sure you use http and not https)"
   ]
  },
  {
   "cell_type": "markdown",
   "id": "7ca3f746-2652-4544-9206-2f5c477b3c3b",
   "metadata": {},
   "source": [
    "# 5. Create Azure webapp static site"
   ]
  },
  {
   "cell_type": "markdown",
   "id": "6e68f865-7e53-4258-bf9c-cef864f3c7e1",
   "metadata": {},
   "source": [
    "1. Read AzureMol book chapter 3. Use https://learn.microsoft.com/en-us/azure/app-service/quickstart-python?tabs=flask%2Cwindows%2Cazure-portal%2Clocal-git-deploy%2Cdeploy-instructions-azportal%2Cterminal-bash%2Cdeploy-instructions-zip-azcli as\n",
    "reference (particularly create web app and use local git parts)\n",
    "2. Create a webapp on azure (use ASP.NET v3.5 runtime)\n",
    "3. Via deployment center, create a local git repo.\n",
    "4. Create a local directory with a static html file. You can use the same file from #1.\n",
    "5. Configure git (git init, git config… as per book) via azure cloud shell in this directory. Push the\n",
    "index.html site you created to the git repo to deploy the website."
   ]
  },
  {
   "cell_type": "markdown",
   "id": "1f74ac63-2d77-4077-aadc-01b715578ebd",
   "metadata": {},
   "source": [
    "# 6. Deploy static site on Azure Blob Store"
   ]
  },
  {
   "cell_type": "markdown",
   "id": "13bd22df-a400-4c6a-bdd9-14ea8d723213",
   "metadata": {},
   "source": [
    "1. Use https://learn.microsoft.com/en-us/azure/storage/blobs/storage-blob-static-website-how-to?tabs=azure-portal as a reference to deploy your index.html page on Azure blob store."
   ]
  },
  {
   "cell_type": "markdown",
   "id": "d98c4eec-d315-4b97-9f79-317fc4800b8e",
   "metadata": {},
   "source": [
    "**Deliverable: at the end of this assignment, you have to fill and submit on moodle\n",
    "a file called “Azure-Lab1-Deliverable.docx”, which is available in the assignment\n",
    "1 section on moodle.**"
   ]
  },
  {
   "cell_type": "code",
   "execution_count": null,
   "id": "22febc5e-61e8-4a0c-96d5-7f56bbe1d0b1",
   "metadata": {},
   "outputs": [],
   "source": []
  }
 ],
 "metadata": {
  "kernelspec": {
   "display_name": "Julia 1.11.1",
   "language": "julia",
   "name": "julia-1.11"
  },
  "language_info": {
   "file_extension": ".jl",
   "mimetype": "application/julia",
   "name": "julia",
   "version": "1.11.1"
  }
 },
 "nbformat": 4,
 "nbformat_minor": 5
}
