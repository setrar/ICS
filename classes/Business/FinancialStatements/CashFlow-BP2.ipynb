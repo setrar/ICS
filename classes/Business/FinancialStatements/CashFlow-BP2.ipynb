{
 "cells": [
  {
   "cell_type": "code",
   "execution_count": 1,
   "id": "994eb867-d794-4e8b-8d0f-2b9ef0dd6694",
   "metadata": {},
   "outputs": [],
   "source": [
    "using Plots"
   ]
  },
  {
   "cell_type": "code",
   "execution_count": 2,
   "id": "196a6db8-36cc-45c5-b748-aabfd0fa16cd",
   "metadata": {},
   "outputs": [
    {
     "data": {
      "text/plain": [
       "9-element Vector{Int64}:\n",
       "    840\n",
       "   1660\n",
       "   6680\n",
       "  17140\n",
       "  29680\n",
       "  46512\n",
       "  72169\n",
       " 106435\n",
       " 149275"
      ]
     },
     "execution_count": 2,
     "metadata": {},
     "output_type": "execute_result"
    }
   ],
   "source": [
    "quarters = [\"Q1\", \"Q2\", \"Q3\", \"Q4\", \"Q5\", \"Q6\", \"Q7\", \"Q8\", \"Q9\"]\n",
    "total_revenue = [0, 3360, 10080, 23940, 33152, 51576, 79212, 116060, 162120]\n",
    "total_cogs = [0, 1200, 2400, 4800, 1672, 2585, 3971, 5818, 8126]\n",
    "gross_profit = [860, 2160, 7680, 19140, 31680, 48991, 75241, 110242, 153994]\n",
    "opex = [20, 500, 1000, 2000, 2479, 3072, 3807, 4719, 4719]\n",
    "net_income = [840, 1660, 6680, 17140, 29680, 46512, 72169, 106435, 149275]\n"
   ]
  },
  {
   "cell_type": "code",
   "execution_count": 9,
   "id": "43c6995b-5838-4850-8e5b-200149e1d98b",
   "metadata": {},
   "outputs": [],
   "source": [
    "p = plot(quarters, total_revenue, label=\"Total Revenue\", marker=:circle)\n",
    "plot!(quarters, total_cogs, label=\"Total COGS\", marker=:circle)\n",
    "plot!(quarters, gross_profit, label=\"Gross Profit\", marker=:circle)\n",
    "plot!(quarters, opex, label=\"OpEx\", marker=:circle, linestyle=:dash)\n",
    "plot!(quarters, net_income, label=\"Net Income\", marker=:circle, color=:green)\n",
    "\n",
    "xlabel!(\"Quarters\")\n",
    "ylabel!(\"Amount (in thousands)\")\n",
    "title!(\"Projected: Financial Metrics Over Quarters\")\n",
    "# legend(:outertopright)\n",
    "\n",
    "savefig(p, \"images/financial_projection_bp2.png\");\n",
    "\n"
   ]
  },
  {
   "cell_type": "markdown",
   "id": "225d1a1e-c305-4398-8df1-2cad5356d7b1",
   "metadata": {},
   "source": [
    "<img src=images/financial_projection_bp2.png width='' height='' > </img>\n"
   ]
  },
  {
   "cell_type": "code",
   "execution_count": 4,
   "id": "e5e8ae59-dedb-4c26-944d-acf31517f089",
   "metadata": {},
   "outputs": [
    {
     "name": "stdout",
     "output_type": "stream",
     "text": [
      "\u001b[1m45×3 DataFrame\u001b[0m\n",
      "\u001b[1m Row \u001b[0m│\u001b[1m Quarter \u001b[0m\u001b[1m Metric        \u001b[0m\u001b[1m Values \u001b[0m\n",
      "     │\u001b[90m String  \u001b[0m\u001b[90m String        \u001b[0m\u001b[90m Int64  \u001b[0m\n",
      "─────┼────────────────────────────────\n",
      "   1 │ Q1       Total_Revenue       0\n",
      "   2 │ Q1       Total_COGS       3360\n",
      "   3 │ Q1       Gross_Profit    10080\n",
      "   4 │ Q1       OpEx            23940\n",
      "   5 │ Q1       Net_Income      33152\n",
      "   6 │ Q2       Total_Revenue   51576\n",
      "   7 │ Q2       Total_COGS      79212\n",
      "   8 │ Q2       Gross_Profit   116060\n",
      "   9 │ Q2       OpEx           162120\n",
      "  10 │ Q2       Net_Income          0\n",
      "  11 │ Q3       Total_Revenue    1200\n",
      "  12 │ Q3       Total_COGS       2400\n",
      "  13 │ Q3       Gross_Profit     4800\n",
      "  14 │ Q3       OpEx             1672\n",
      "  15 │ Q3       Net_Income       2585\n",
      "  16 │ Q4       Total_Revenue    3971\n",
      "  17 │ Q4       Total_COGS       5818\n",
      "  18 │ Q4       Gross_Profit     8126\n",
      "  19 │ Q4       OpEx              860\n",
      "  20 │ Q4       Net_Income       2160\n",
      "  21 │ Q5       Total_Revenue    7680\n",
      "  22 │ Q5       Total_COGS      19140\n",
      "  23 │ Q5       Gross_Profit    31680\n",
      "  24 │ Q5       OpEx            48991\n",
      "  25 │ Q5       Net_Income      75241\n",
      "  26 │ Q6       Total_Revenue  110242\n",
      "  27 │ Q6       Total_COGS     153994\n",
      "  28 │ Q6       Gross_Profit       20\n",
      "  29 │ Q6       OpEx              500\n",
      "  30 │ Q6       Net_Income       1000\n",
      "  31 │ Q7       Total_Revenue    2000\n",
      "  32 │ Q7       Total_COGS       2479\n",
      "  33 │ Q7       Gross_Profit     3072\n",
      "  34 │ Q7       OpEx             3807\n",
      "  35 │ Q7       Net_Income       4719\n",
      "  36 │ Q8       Total_Revenue    4719\n",
      "  37 │ Q8       Total_COGS        840\n",
      "  38 │ Q8       Gross_Profit     1660\n",
      "  39 │ Q8       OpEx             6680\n",
      "  40 │ Q8       Net_Income      17140\n",
      "  41 │ Q9       Total_Revenue   29680\n",
      "  42 │ Q9       Total_COGS      46512\n",
      "  43 │ Q9       Gross_Profit    72169\n",
      "  44 │ Q9       OpEx           106435\n",
      "  45 │ Q9       Net_Income     149275\n"
     ]
    }
   ],
   "source": [
    "using DataFrames\n",
    "\n",
    "# Create a DataFrame\n",
    "df = DataFrame(\n",
    "    Quarter = repeat(quarters, inner = 5),\n",
    "    Metric = repeat([\"Total_Revenue\", \"Total_COGS\", \"Gross_Profit\", \"OpEx\", \"Net_Income\"], outer = length(quarters)),\n",
    "    Values = vcat(total_revenue, total_cogs, gross_profit, opex, net_income)\n",
    ")\n",
    "\n",
    "# Print the DataFrame\n",
    "println(df)\n"
   ]
  },
  {
   "cell_type": "code",
   "execution_count": 5,
   "id": "67cf4b06-32d4-4423-a7f0-2663b6a5b059",
   "metadata": {},
   "outputs": [
    {
     "name": "stdout",
     "output_type": "stream",
     "text": [
      "\u001b[1m5×10 DataFrame\u001b[0m\n",
      "\u001b[1m Row \u001b[0m│\u001b[1m Metric        \u001b[0m\u001b[1m Q1     \u001b[0m\u001b[1m Q2     \u001b[0m\u001b[1m Q3     \u001b[0m\u001b[1m Q4     \u001b[0m\u001b[1m Q5     \u001b[0m\u001b[1m Q6     \u001b[0m\u001b[1m Q7     \u001b[0m\u001b[1m Q8     \u001b[0m\u001b[1m Q9     \u001b[0m\n",
      "     │\u001b[90m String        \u001b[0m\u001b[90m Int64? \u001b[0m\u001b[90m Int64? \u001b[0m\u001b[90m Int64? \u001b[0m\u001b[90m Int64? \u001b[0m\u001b[90m Int64? \u001b[0m\u001b[90m Int64? \u001b[0m\u001b[90m Int64? \u001b[0m\u001b[90m Int64? \u001b[0m\u001b[90m Int64? \u001b[0m\n",
      "─────┼───────────────────────────────────────────────────────────────────────────────────────\n",
      "   1 │ Total_Revenue       0   51576    1200    3971    7680  110242    2000    4719   29680\n",
      "   2 │ Total_COGS       3360   79212    2400    5818   19140  153994    2479     840   46512\n",
      "   3 │ Gross_Profit    10080  116060    4800    8126   31680      20    3072    1660   72169\n",
      "   4 │ OpEx            23940  162120    1672     860   48991     500    3807    6680  106435\n",
      "   5 │ Net_Income      33152       0    2585    2160   75241    1000    4719   17140  149275\n"
     ]
    }
   ],
   "source": [
    "# Unstack the DataFrame to make quarters as columns\n",
    "pivoted_df = unstack(df, :Metric, :Quarter, :Values)\n",
    "\n",
    "# Display the modified DataFrame\n",
    "println(pivoted_df)\n"
   ]
  },
  {
   "cell_type": "code",
   "execution_count": 6,
   "id": "15247da2-88ca-4891-84d6-1b4d8f992fec",
   "metadata": {},
   "outputs": [
    {
     "data": {
      "text/plain": [
       "format_currency (generic function with 1 method)"
      ]
     },
     "execution_count": 6,
     "metadata": {},
     "output_type": "execute_result"
    }
   ],
   "source": [
    "using Printf\n",
    "\n",
    "function format_currency(value)\n",
    "    if ismissing(value)\n",
    "        return \"\\$ -\"  # Handle missing values gracefully\n",
    "    else\n",
    "        # Format with two decimal places and commas\n",
    "        formatted = @sprintf(\"%0.2f\", value)\n",
    "        # Insert commas into the integer part\n",
    "        int_part, dec_part = split(formatted, '.')\n",
    "        int_part = reverse(join([reverse(int_part[i:min(i+2, end)]) for i in 1:3:length(int_part)], ','))\n",
    "        return \"\\$\" * int_part * \".\" * dec_part\n",
    "    end\n",
    "end\n"
   ]
  },
  {
   "cell_type": "code",
   "execution_count": 7,
   "id": "d452b133-de2b-499c-b3df-3652be5f3799",
   "metadata": {},
   "outputs": [
    {
     "data": {
      "text/plain": [
       "print_currency_df (generic function with 1 method)"
      ]
     },
     "execution_count": 7,
     "metadata": {},
     "output_type": "execute_result"
    }
   ],
   "source": [
    "function print_currency_df(df::DataFrame)\n",
    "    # Iterate over each column to apply currency formatting if it's numeric\n",
    "    for col in names(df)\n",
    "        if eltype(df[!, col]) <: Number  # Check if the column is numeric\n",
    "            df[!, col] = format_currency.(df[!, col])  # Apply formatting\n",
    "        end\n",
    "    end\n",
    "\n",
    "    # Print the DataFrame\n",
    "    display(df)\n",
    "end\n"
   ]
  },
  {
   "cell_type": "code",
   "execution_count": 8,
   "id": "f600a684-a386-4f16-9965-58a8f1962e38",
   "metadata": {},
   "outputs": [
    {
     "data": {
      "text/html": [
       "<div><div style = \"float: left;\"><span>5×10 DataFrame</span></div><div style = \"clear: both;\"></div></div><div class = \"data-frame\" style = \"overflow-x: scroll;\"><table class = \"data-frame\" style = \"margin-bottom: 6px;\"><thead><tr class = \"header\"><th class = \"rowNumber\" style = \"font-weight: bold; text-align: right;\">Row</th><th style = \"text-align: left;\">Metric</th><th style = \"text-align: left;\">Q1</th><th style = \"text-align: left;\">Q2</th><th style = \"text-align: left;\">Q3</th><th style = \"text-align: left;\">Q4</th><th style = \"text-align: left;\">Q5</th><th style = \"text-align: left;\">Q6</th><th style = \"text-align: left;\">Q7</th><th style = \"text-align: left;\">Q8</th><th style = \"text-align: left;\">Q9</th></tr><tr class = \"subheader headerLastRow\"><th class = \"rowNumber\" style = \"font-weight: bold; text-align: right;\"></th><th title = \"String\" style = \"text-align: left;\">String</th><th title = \"Union{Missing, Int64}\" style = \"text-align: left;\">Int64?</th><th title = \"Union{Missing, Int64}\" style = \"text-align: left;\">Int64?</th><th title = \"Union{Missing, Int64}\" style = \"text-align: left;\">Int64?</th><th title = \"Union{Missing, Int64}\" style = \"text-align: left;\">Int64?</th><th title = \"Union{Missing, Int64}\" style = \"text-align: left;\">Int64?</th><th title = \"Union{Missing, Int64}\" style = \"text-align: left;\">Int64?</th><th title = \"Union{Missing, Int64}\" style = \"text-align: left;\">Int64?</th><th title = \"Union{Missing, Int64}\" style = \"text-align: left;\">Int64?</th><th title = \"Union{Missing, Int64}\" style = \"text-align: left;\">Int64?</th></tr></thead><tbody><tr><td class = \"rowNumber\" style = \"font-weight: bold; text-align: right;\">1</td><td style = \"text-align: left;\">Total_Revenue</td><td style = \"text-align: right;\">0</td><td style = \"text-align: right;\">51576</td><td style = \"text-align: right;\">1200</td><td style = \"text-align: right;\">3971</td><td style = \"text-align: right;\">7680</td><td style = \"text-align: right;\">110242</td><td style = \"text-align: right;\">2000</td><td style = \"text-align: right;\">4719</td><td style = \"text-align: right;\">29680</td></tr><tr><td class = \"rowNumber\" style = \"font-weight: bold; text-align: right;\">2</td><td style = \"text-align: left;\">Total_COGS</td><td style = \"text-align: right;\">3360</td><td style = \"text-align: right;\">79212</td><td style = \"text-align: right;\">2400</td><td style = \"text-align: right;\">5818</td><td style = \"text-align: right;\">19140</td><td style = \"text-align: right;\">153994</td><td style = \"text-align: right;\">2479</td><td style = \"text-align: right;\">840</td><td style = \"text-align: right;\">46512</td></tr><tr><td class = \"rowNumber\" style = \"font-weight: bold; text-align: right;\">3</td><td style = \"text-align: left;\">Gross_Profit</td><td style = \"text-align: right;\">10080</td><td style = \"text-align: right;\">116060</td><td style = \"text-align: right;\">4800</td><td style = \"text-align: right;\">8126</td><td style = \"text-align: right;\">31680</td><td style = \"text-align: right;\">20</td><td style = \"text-align: right;\">3072</td><td style = \"text-align: right;\">1660</td><td style = \"text-align: right;\">72169</td></tr><tr><td class = \"rowNumber\" style = \"font-weight: bold; text-align: right;\">4</td><td style = \"text-align: left;\">OpEx</td><td style = \"text-align: right;\">23940</td><td style = \"text-align: right;\">162120</td><td style = \"text-align: right;\">1672</td><td style = \"text-align: right;\">860</td><td style = \"text-align: right;\">48991</td><td style = \"text-align: right;\">500</td><td style = \"text-align: right;\">3807</td><td style = \"text-align: right;\">6680</td><td style = \"text-align: right;\">106435</td></tr><tr><td class = \"rowNumber\" style = \"font-weight: bold; text-align: right;\">5</td><td style = \"text-align: left;\">Net_Income</td><td style = \"text-align: right;\">33152</td><td style = \"text-align: right;\">0</td><td style = \"text-align: right;\">2585</td><td style = \"text-align: right;\">2160</td><td style = \"text-align: right;\">75241</td><td style = \"text-align: right;\">1000</td><td style = \"text-align: right;\">4719</td><td style = \"text-align: right;\">17140</td><td style = \"text-align: right;\">149275</td></tr></tbody></table></div>"
      ],
      "text/latex": [
       "\\begin{tabular}{r|cccccccccc}\n",
       "\t& Metric & Q1 & Q2 & Q3 & Q4 & Q5 & Q6 & Q7 & Q8 & Q9\\\\\n",
       "\t\\hline\n",
       "\t& String & Int64? & Int64? & Int64? & Int64? & Int64? & Int64? & Int64? & Int64? & Int64?\\\\\n",
       "\t\\hline\n",
       "\t1 & Total\\_Revenue & 0 & 51576 & 1200 & 3971 & 7680 & 110242 & 2000 & 4719 & 29680 \\\\\n",
       "\t2 & Total\\_COGS & 3360 & 79212 & 2400 & 5818 & 19140 & 153994 & 2479 & 840 & 46512 \\\\\n",
       "\t3 & Gross\\_Profit & 10080 & 116060 & 4800 & 8126 & 31680 & 20 & 3072 & 1660 & 72169 \\\\\n",
       "\t4 & OpEx & 23940 & 162120 & 1672 & 860 & 48991 & 500 & 3807 & 6680 & 106435 \\\\\n",
       "\t5 & Net\\_Income & 33152 & 0 & 2585 & 2160 & 75241 & 1000 & 4719 & 17140 & 149275 \\\\\n",
       "\\end{tabular}\n"
      ],
      "text/plain": [
       "\u001b[1m5×10 DataFrame\u001b[0m\n",
       "\u001b[1m Row \u001b[0m│\u001b[1m Metric        \u001b[0m\u001b[1m Q1     \u001b[0m\u001b[1m Q2     \u001b[0m\u001b[1m Q3     \u001b[0m\u001b[1m Q4     \u001b[0m\u001b[1m Q5     \u001b[0m\u001b[1m Q6     \u001b[0m\u001b[1m Q7     \u001b[0m\u001b[1m \u001b[0m ⋯\n",
       "     │\u001b[90m String        \u001b[0m\u001b[90m Int64? \u001b[0m\u001b[90m Int64? \u001b[0m\u001b[90m Int64? \u001b[0m\u001b[90m Int64? \u001b[0m\u001b[90m Int64? \u001b[0m\u001b[90m Int64? \u001b[0m\u001b[90m Int64? \u001b[0m\u001b[90m \u001b[0m ⋯\n",
       "─────┼──────────────────────────────────────────────────────────────────────────\n",
       "   1 │ Total_Revenue       0   51576    1200    3971    7680  110242    2000   ⋯\n",
       "   2 │ Total_COGS       3360   79212    2400    5818   19140  153994    2479\n",
       "   3 │ Gross_Profit    10080  116060    4800    8126   31680      20    3072\n",
       "   4 │ OpEx            23940  162120    1672     860   48991     500    3807\n",
       "   5 │ Net_Income      33152       0    2585    2160   75241    1000    4719   ⋯\n",
       "\u001b[36m                                                               2 columns omitted\u001b[0m"
      ]
     },
     "metadata": {},
     "output_type": "display_data"
    }
   ],
   "source": [
    "# Call the function to print the DataFrame\n",
    "print_currency_df(pivoted_df)"
   ]
  },
  {
   "cell_type": "code",
   "execution_count": null,
   "id": "fb059429-4b70-49d4-8efd-5a4fb2702a22",
   "metadata": {},
   "outputs": [],
   "source": []
  }
 ],
 "metadata": {
  "kernelspec": {
   "display_name": "Julia 1.9.3",
   "language": "julia",
   "name": "julia-1.9"
  },
  "language_info": {
   "file_extension": ".jl",
   "mimetype": "application/julia",
   "name": "julia",
   "version": "1.10.2"
  }
 },
 "nbformat": 4,
 "nbformat_minor": 5
}
