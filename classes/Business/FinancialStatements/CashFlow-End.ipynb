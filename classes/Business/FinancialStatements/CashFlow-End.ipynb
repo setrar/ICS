{
 "cells": [
  {
   "cell_type": "code",
   "execution_count": 6,
   "id": "994eb867-d794-4e8b-8d0f-2b9ef0dd6694",
   "metadata": {},
   "outputs": [],
   "source": [
    "using Plots"
   ]
  },
  {
   "cell_type": "code",
   "execution_count": 7,
   "id": "196a6db8-36cc-45c5-b748-aabfd0fa16cd",
   "metadata": {},
   "outputs": [],
   "source": [
    "include(\"q_data.jl\");"
   ]
  },
  {
   "cell_type": "code",
   "execution_count": 11,
   "id": "43c6995b-5838-4850-8e5b-200149e1d98b",
   "metadata": {},
   "outputs": [],
   "source": [
    "p = plot(quarters, total_revenue, label=\"Total Revenue\", marker=:circle)\n",
    "plot!(quarters, total_cogs, label=\"Total COGS\", marker=:circle)\n",
    "plot!(quarters, gross_profit, label=\"Gross Profit\", marker=:circle)\n",
    "plot!(quarters, opex, label=\"OpEx\", marker=:circle, linestyle=:dash)\n",
    "plot!(quarters, net_income, label=\"Net Income\", marker=:circle, color=:green)\n",
    "\n",
    "xlabel!(\"Quarters\")\n",
    "ylabel!(\"Amount (in thousands)\")\n",
    "title!(\"Actual: Financial Metrics Over Quarters\")\n",
    "# legend(:outertopright)\n",
    "\n",
    "savefig(p, \"images/financial_projection_end.png\");\n",
    "\n"
   ]
  },
  {
   "cell_type": "markdown",
   "id": "d7b7b9b9-4bb8-4c18-b5d9-056131b586fe",
   "metadata": {},
   "source": [
    "<img src=images/financial_projection_end.png width='' height='' > </img>\n"
   ]
  },
  {
   "cell_type": "code",
   "execution_count": 9,
   "id": "e5e8ae59-dedb-4c26-944d-acf31517f089",
   "metadata": {},
   "outputs": [
    {
     "name": "stdout",
     "output_type": "stream",
     "text": [
      "\u001b[1m45×3 DataFrame\u001b[0m\n",
      "\u001b[1m Row \u001b[0m│\u001b[1m Quarter \u001b[0m\u001b[1m Metric        \u001b[0m\u001b[1m Values \u001b[0m\n",
      "     │\u001b[90m String  \u001b[0m\u001b[90m String        \u001b[0m\u001b[90m Int64  \u001b[0m\n",
      "─────┼────────────────────────────────\n",
      "   1 │ Q1       Total_Revenue       0\n",
      "   2 │ Q1       Total_COGS       1590\n",
      "   3 │ Q1       Gross_Profit     4934\n",
      "   4 │ Q1       OpEx             7568\n",
      "   5 │ Q1       Net_Income       8180\n",
      "   6 │ Q2       Total_Revenue   18004\n",
      "   7 │ Q2       Total_COGS      18720\n",
      "   8 │ Q2       Gross_Profit    26335\n",
      "   9 │ Q2       OpEx            54385\n",
      "  10 │ Q2       Net_Income          0\n",
      "  11 │ Q3       Total_Revenue     441\n",
      "  12 │ Q3       Total_COGS        856\n",
      "  13 │ Q3       Gross_Profit     1114\n",
      "  14 │ Q3       OpEx             1478\n",
      "  15 │ Q3       Net_Income       7132\n",
      "  16 │ Q4       Total_Revenue    7712\n",
      "  17 │ Q4       Total_COGS       7651\n",
      "  18 │ Q4       Gross_Profit    31097\n",
      "  19 │ Q4       OpEx                0\n",
      "  20 │ Q4       Net_Income       1149\n",
      "  21 │ Q5       Total_Revenue    4078\n",
      "  22 │ Q5       Total_COGS       6454\n",
      "  23 │ Q5       Gross_Profit     6702\n",
      "  24 │ Q5       OpEx            10872\n",
      "  25 │ Q5       Net_Income      11008\n",
      "  26 │ Q6       Total_Revenue   18684\n",
      "  27 │ Q6       Total_COGS      23288\n",
      "  28 │ Q6       Gross_Profit        0\n",
      "  29 │ Q6       OpEx              500\n",
      "  30 │ Q6       Net_Income       1000\n",
      "  31 │ Q7       Total_Revenue    2000\n",
      "  32 │ Q7       Total_COGS       2479\n",
      "  33 │ Q7       Gross_Profit     3072\n",
      "  34 │ Q7       OpEx             3807\n",
      "  35 │ Q7       Net_Income       4719\n",
      "  36 │ Q8       Total_Revenue    4719\n",
      "  37 │ Q8       Total_COGS      -1374\n",
      "  38 │ Q8       Gross_Profit    -1022\n",
      "  39 │ Q8       OpEx              639\n",
      "  40 │ Q8       Net_Income       2101\n",
      "  41 │ Q9       Total_Revenue    2576\n",
      "  42 │ Q9       Total_COGS       4778\n",
      "  43 │ Q9       Gross_Profit     4636\n",
      "  44 │ Q9       OpEx             7598\n",
      "  45 │ Q9       Net_Income      10176\n"
     ]
    }
   ],
   "source": [
    "using DataFrames\n",
    "\n",
    "# Create a DataFrame\n",
    "df = DataFrame(\n",
    "    Quarter = repeat(quarters, inner = 5),\n",
    "    Metric = repeat([\"Total_Revenue\", \"Total_COGS\", \"Gross_Profit\", \"OpEx\", \"Net_Income\"], outer = length(quarters)),\n",
    "    Values = vcat(total_revenue, total_cogs, gross_profit, opex, net_income)\n",
    ")\n",
    "\n",
    "# Print the DataFrame\n",
    "println(df)\n"
   ]
  },
  {
   "cell_type": "code",
   "execution_count": 10,
   "id": "67cf4b06-32d4-4423-a7f0-2663b6a5b059",
   "metadata": {},
   "outputs": [
    {
     "name": "stdout",
     "output_type": "stream",
     "text": [
      "\u001b[1m5×10 DataFrame\u001b[0m\n",
      "\u001b[1m Row \u001b[0m│\u001b[1m Metric        \u001b[0m\u001b[1m Q1     \u001b[0m\u001b[1m Q2     \u001b[0m\u001b[1m Q3     \u001b[0m\u001b[1m Q4     \u001b[0m\u001b[1m Q5     \u001b[0m\u001b[1m Q6     \u001b[0m\u001b[1m Q7     \u001b[0m\u001b[1m Q8     \u001b[0m\u001b[1m Q9     \u001b[0m\n",
      "     │\u001b[90m String        \u001b[0m\u001b[90m Int64? \u001b[0m\u001b[90m Int64? \u001b[0m\u001b[90m Int64? \u001b[0m\u001b[90m Int64? \u001b[0m\u001b[90m Int64? \u001b[0m\u001b[90m Int64? \u001b[0m\u001b[90m Int64? \u001b[0m\u001b[90m Int64? \u001b[0m\u001b[90m Int64? \u001b[0m\n",
      "─────┼───────────────────────────────────────────────────────────────────────────────────────\n",
      "   1 │ Total_Revenue       0   18004     441    7712    4078   18684    2000    4719    2576\n",
      "   2 │ Total_COGS       1590   18720     856    7651    6454   23288    2479   -1374    4778\n",
      "   3 │ Gross_Profit     4934   26335    1114   31097    6702       0    3072   -1022    4636\n",
      "   4 │ OpEx             7568   54385    1478       0   10872     500    3807     639    7598\n",
      "   5 │ Net_Income       8180       0    7132    1149   11008    1000    4719    2101   10176\n"
     ]
    }
   ],
   "source": [
    "# Unstack the DataFrame to make quarters as columns\n",
    "pivoted_df = unstack(df, :Metric, :Quarter, :Values)\n",
    "\n",
    "# Display the modified DataFrame\n",
    "println(pivoted_df)\n"
   ]
  },
  {
   "cell_type": "code",
   "execution_count": null,
   "id": "15247da2-88ca-4891-84d6-1b4d8f992fec",
   "metadata": {},
   "outputs": [],
   "source": []
  }
 ],
 "metadata": {
  "kernelspec": {
   "display_name": "Julia 1.9.3",
   "language": "julia",
   "name": "julia-1.9"
  },
  "language_info": {
   "file_extension": ".jl",
   "mimetype": "application/julia",
   "name": "julia",
   "version": "1.10.2"
  }
 },
 "nbformat": 4,
 "nbformat_minor": 5
}
