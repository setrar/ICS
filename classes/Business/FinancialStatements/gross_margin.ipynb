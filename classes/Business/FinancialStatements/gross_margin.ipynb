{
 "cells": [
  {
   "cell_type": "markdown",
   "id": "9eb7b4d9-e0d5-419f-8480-ea598f7b09b1",
   "metadata": {},
   "source": [
    "#### Standard Sales "
   ]
  },
  {
   "cell_type": "code",
   "execution_count": 1,
   "id": "7dc4139a-ff59-4a6a-a0c7-b7cdc8b0b1a7",
   "metadata": {},
   "outputs": [
    {
     "data": {
      "text/plain": [
       "11677317"
      ]
     },
     "execution_count": 1,
     "metadata": {},
     "output_type": "execute_result"
    }
   ],
   "source": [
    "CONSUMER_SS= 27939877\n",
    "INTRA_CO_SS= 722892\n",
    "INTER_CO_SS=3383133\n",
    "COMPONENT_SS=139542\n",
    "COGS_SS=20508126\n",
    "GROSS_MARGIN_SS=11677317"
   ]
  },
  {
   "cell_type": "code",
   "execution_count": 2,
   "id": "c272688c-fe9b-4e77-b3aa-df14f16a7d07",
   "metadata": {},
   "outputs": [
    {
     "data": {
      "text/plain": [
       "32185444"
      ]
     },
     "execution_count": 2,
     "metadata": {},
     "output_type": "execute_result"
    }
   ],
   "source": [
    "REVENUE_SS = CONSUMER_SS+(INTRA_CO_SS+INTER_CO_SS+COMPONENT_SS)"
   ]
  },
  {
   "cell_type": "code",
   "execution_count": 3,
   "id": "9a4e32c1-4775-4de7-a430-a13697718984",
   "metadata": {},
   "outputs": [
    {
     "data": {
      "text/plain": [
       "11677318"
      ]
     },
     "execution_count": 3,
     "metadata": {},
     "output_type": "execute_result"
    }
   ],
   "source": [
    "REVENUE_SS-COGS_SS"
   ]
  },
  {
   "cell_type": "code",
   "execution_count": 4,
   "id": "a05485bc-5531-4e8a-9245-674663f48749",
   "metadata": {},
   "outputs": [
    {
     "data": {
      "text/plain": [
       "true"
      ]
     },
     "execution_count": 4,
     "metadata": {},
     "output_type": "execute_result"
    }
   ],
   "source": [
    "(GROSS_MARGIN_SS + 1) == (REVENUE_SS-COGS_SS)"
   ]
  },
  {
   "cell_type": "markdown",
   "id": "45225d09-db93-4e16-a30c-4ca388bcef53",
   "metadata": {},
   "source": [
    "#### Deluxe Sales "
   ]
  },
  {
   "cell_type": "code",
   "execution_count": 5,
   "id": "3e94e473-10ed-4973-a046-4227643d0fb3",
   "metadata": {},
   "outputs": [
    {
     "data": {
      "text/plain": [
       "11610813"
      ]
     },
     "execution_count": 5,
     "metadata": {},
     "output_type": "execute_result"
    }
   ],
   "source": [
    "CONSUMER_DS= 9672012\n",
    "INTRA_CO_DS= 682731\n",
    "INTER_CO_DS=11283434\n",
    "COMPONENT_DS=562249\n",
    "COGS_DS=10589613\n",
    "GROSS_MARGIN_DS=11610813"
   ]
  },
  {
   "cell_type": "code",
   "execution_count": 6,
   "id": "5176082d-dd6b-4bfc-87ca-f5159fc1e54b",
   "metadata": {},
   "outputs": [
    {
     "data": {
      "text/plain": [
       "22200426"
      ]
     },
     "execution_count": 6,
     "metadata": {},
     "output_type": "execute_result"
    }
   ],
   "source": [
    "REVENUE_DS = CONSUMER_DS+(INTRA_CO_DS+INTER_CO_DS+COMPONENT_DS)"
   ]
  },
  {
   "cell_type": "code",
   "execution_count": 7,
   "id": "6104356d-ff19-4919-be74-74d15d77fb16",
   "metadata": {},
   "outputs": [
    {
     "data": {
      "text/plain": [
       "11610813"
      ]
     },
     "execution_count": 7,
     "metadata": {},
     "output_type": "execute_result"
    }
   ],
   "source": [
    "REVENUE_DS-COGS_DS"
   ]
  },
  {
   "cell_type": "code",
   "execution_count": 8,
   "id": "12bc77c1-27d4-4a16-ba60-16ab7fb4779d",
   "metadata": {},
   "outputs": [
    {
     "data": {
      "text/plain": [
       "true"
      ]
     },
     "execution_count": 8,
     "metadata": {},
     "output_type": "execute_result"
    }
   ],
   "source": [
    "GROSS_MARGIN_DS == (REVENUE_DS-COGS_DS)"
   ]
  },
  {
   "cell_type": "code",
   "execution_count": 9,
   "id": "2a575e8b-90eb-42cd-a1ac-46f6bc9931fd",
   "metadata": {},
   "outputs": [
    {
     "data": {
      "text/plain": [
       "23288130"
      ]
     },
     "execution_count": 9,
     "metadata": {},
     "output_type": "execute_result"
    }
   ],
   "source": [
    "GROSS_MARGIN_SS + GROSS_MARGIN_DS"
   ]
  },
  {
   "cell_type": "code",
   "execution_count": 10,
   "id": "3b186632-4214-4d94-8699-e601d8bf4dad",
   "metadata": {},
   "outputs": [
    {
     "data": {
      "text/plain": [
       "23288130"
      ]
     },
     "execution_count": 10,
     "metadata": {},
     "output_type": "execute_result"
    }
   ],
   "source": [
    "TOTAL_GROSS_MARGIN=23288130"
   ]
  },
  {
   "cell_type": "code",
   "execution_count": 11,
   "id": "cf2168d2-da49-41ee-8281-3b5c7a278233",
   "metadata": {},
   "outputs": [
    {
     "data": {
      "text/plain": [
       "true"
      ]
     },
     "execution_count": 11,
     "metadata": {},
     "output_type": "execute_result"
    }
   ],
   "source": [
    "TOTAL_GROSS_MARGIN == (GROSS_MARGIN_SS + GROSS_MARGIN_DS)"
   ]
  },
  {
   "cell_type": "code",
   "execution_count": 12,
   "id": "1f9704f8-3a92-4382-88e9-7872d52d8124",
   "metadata": {},
   "outputs": [
    {
     "data": {
      "text/plain": [
       "54385870"
      ]
     },
     "execution_count": 12,
     "metadata": {},
     "output_type": "execute_result"
    }
   ],
   "source": [
    "TOTAL_REVENUE = REVENUE_DS + REVENUE_SS"
   ]
  },
  {
   "cell_type": "code",
   "execution_count": 13,
   "id": "84a0550b-7313-442f-a23e-a87d41773aed",
   "metadata": {},
   "outputs": [
    {
     "data": {
      "text/plain": [
       "31097739"
      ]
     },
     "execution_count": 13,
     "metadata": {},
     "output_type": "execute_result"
    }
   ],
   "source": [
    "TOTAL_COGS = COGS_SS + COGS_DS"
   ]
  },
  {
   "cell_type": "code",
   "execution_count": 15,
   "id": "25552171-3990-4690-bb11-0c7a625619d8",
   "metadata": {},
   "outputs": [
    {
     "data": {
      "text/plain": [
       "true"
      ]
     },
     "execution_count": 15,
     "metadata": {},
     "output_type": "execute_result"
    }
   ],
   "source": [
    "(TOTAL_GROSS_MARGIN + 1 ) == TOTAL_REVENUE - TOTAL_COGS"
   ]
  },
  {
   "cell_type": "code",
   "execution_count": null,
   "id": "19595410-b48c-4422-82ae-7ab2efc4e16d",
   "metadata": {},
   "outputs": [],
   "source": []
  }
 ],
 "metadata": {
  "kernelspec": {
   "display_name": "Julia 1.9.3",
   "language": "julia",
   "name": "julia-1.9"
  },
  "language_info": {
   "file_extension": ".jl",
   "mimetype": "application/julia",
   "name": "julia",
   "version": "1.10.2"
  }
 },
 "nbformat": 4,
 "nbformat_minor": 5
}
