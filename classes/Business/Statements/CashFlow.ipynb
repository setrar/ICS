{
 "cells": [
  {
   "cell_type": "code",
   "execution_count": 1,
   "id": "d978a523-4759-45b3-be76-6c690cb6e358",
   "metadata": {},
   "outputs": [],
   "source": [
    "using Plots"
   ]
  },
  {
   "cell_type": "code",
   "execution_count": 2,
   "id": "c7e2bbc1-6b2b-48ec-9d60-be87c5dc2be6",
   "metadata": {},
   "outputs": [
    {
     "data": {
      "text/plain": [
       "4-element Vector{Int64}:\n",
       "   840000\n",
       "  1659200\n",
       "  7879200\n",
       " 20739200"
      ]
     },
     "execution_count": 2,
     "metadata": {},
     "output_type": "execute_result"
    }
   ],
   "source": [
    "\n",
    "# Define the data\n",
    "quarters = [\"Q1\", \"Q2\", \"Q3\", \"Q4\"]\n",
    "x0_revenue = [0, 1.26e6, 3.78e6, 11.34e6]\n",
    "x1_revenue = [0, 2.1e6, 6.3e6, 12.6e6]\n",
    "total_revenue = [0, 3.36e6, 10.08e6, 23.94e6]\n",
    "cogs_x0 = [0, 540800, 1081600, 2163200]\n",
    "cogs_x1 = [0, 660000, 1320000, 2640000]\n",
    "total_cogs = [0, 1200800, 2401600, 4803200]\n",
    "gross_profit = [860000, 2159200, 8879200, 22739200]\n",
    "opex = [20000, 500000, 1000000, 2000000]\n",
    "net_income_loss = [840000, 1659200, 7879200, 20739200]\n"
   ]
  },
  {
   "cell_type": "code",
   "execution_count": 6,
   "id": "c4dabd05-d5fe-47ba-85d5-108abfcb46c9",
   "metadata": {},
   "outputs": [],
   "source": [
    "\n",
    "\n",
    "# Plotting\n",
    "p = plot(quarters, [x0_revenue, x1_revenue, total_revenue, cogs_x0, cogs_x1, total_cogs, gross_profit, opex, net_income_loss],\n",
    "    label=[\"X0 Revenue\" \"X1 Revenue\" \"Total Revenue\" \"COGS (X0)\" \"COGS (X1)\" \"Total COGS\" \"Gross Profit\" \"OpEx\" \"Net Income (Loss)\"],\n",
    "    colour=[:blue :orange :green :red :purple :brown :pink :gray :black],\n",
    "    marker=([:circle :square :utriangle :diamond :cross :star :hexagon :octagon :pentagon]),\n",
    "    linestyle=([:solid :solid :solid :dash :dash :dash :dot :dashdot :dashdotdot]),\n",
    "    title=\"Financial Overview by Quarter (CHF)\",\n",
    "    xlabel=\"Quarter\", ylabel=\"Amount (CHF)\",\n",
    "    legend=:topleft)\n",
    "\n",
    "savefig(p, \"images/financial_projection.png\");\n",
    "# Display the plot\n",
    "# display(plot)\n"
   ]
  },
  {
   "cell_type": "markdown",
   "id": "b4f8a5bc-6c27-44fc-893e-a86d7994e693",
   "metadata": {},
   "source": [
    "<img src=images/financial_projection.png width='' height='' > </img>"
   ]
  },
  {
   "cell_type": "code",
   "execution_count": null,
   "id": "c3ec2887-7c8e-488f-a183-d5d0c65e3666",
   "metadata": {},
   "outputs": [],
   "source": []
  }
 ],
 "metadata": {
  "kernelspec": {
   "display_name": "Julia 1.9.3",
   "language": "julia",
   "name": "julia-1.9"
  },
  "language_info": {
   "file_extension": ".jl",
   "mimetype": "application/julia",
   "name": "julia",
   "version": "1.10.2"
  }
 },
 "nbformat": 4,
 "nbformat_minor": 5
}
