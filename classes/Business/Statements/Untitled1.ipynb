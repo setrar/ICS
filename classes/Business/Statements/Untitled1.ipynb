{
 "cells": [
  {
   "cell_type": "code",
   "execution_count": 4,
   "id": "1b2063cb-f590-40d7-830d-952884331916",
   "metadata": {},
   "outputs": [
    {
     "data": {
      "text/plain": [
       "\"/Users/valiha/Developer/Business/Statements/plots1.png\""
      ]
     },
     "execution_count": 4,
     "metadata": {},
     "output_type": "execute_result"
    }
   ],
   "source": [
    "using Plots\n",
    "\n",
    "# Quarter labels\n",
    "quarters = [\"Q1\", \"Q2\", \"Q3\", \"Q4\", \"Q5\", \"Q6\", \"Q7\", \"Q8\", \"Q9\"]\n",
    "\n",
    "# Data\n",
    "standard_sales = [0, 1260, 3780, 11340, 15704, 24431, 37521, 54976, 76794]\n",
    "deluxe_sales = [0, 2100, 6300, 12600, 17448, 27145, 41691, 61084, 85326]\n",
    "total_revenue = [0, 3360, 10080, 23940, 33152, 51576, 79212, 116060, 162120]\n",
    "total_cogs = [0, 1200, 2400, 4800, 1672, 2585, 3971, 5818, 8126]\n",
    "gross_profit = [860, 2160, 7680, 19140, 31680, 48991, 75241, 110242, 153994]\n",
    "opex = [20, 500, 1000, 2000, 2479, 3072, 3807, 4719, 4719]\n",
    "net_income = [840, 1660, 6680, 17140, 29680, 46512, 72169, 106435, 149275]\n",
    "\n",
    "# Plotting\n",
    "p = plot(quarters, [standard_sales, deluxe_sales, total_revenue, total_cogs, gross_profit, opex, net_income], label=[\"Standard Sales\" \"Deluxe Sales\" \"Total Revenue\" \"Total COGS\" \"Gross Profit\" \"OpEx\" \"Net Income\"], linewidth=2)\n",
    "title!(\"Financial Forecast Q1-Q9\")\n",
    "xlabel!(\"Quarters\")\n",
    "ylabel!(\"Amount (in thousands)\")\n",
    "# legend(:topright)\n",
    "\n",
    "savefig(p, \"plots1.png\")"
   ]
  },
  {
   "cell_type": "code",
   "execution_count": null,
   "id": "af8c87dd-10e2-4944-a8d8-26125a41bbb3",
   "metadata": {},
   "outputs": [],
   "source": []
  }
 ],
 "metadata": {
  "kernelspec": {
   "display_name": "Julia 1.9.3",
   "language": "julia",
   "name": "julia-1.9"
  },
  "language_info": {
   "file_extension": ".jl",
   "mimetype": "application/julia",
   "name": "julia",
   "version": "1.10.2"
  }
 },
 "nbformat": 4,
 "nbformat_minor": 5
}
