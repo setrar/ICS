{
 "cells": [
  {
   "cell_type": "code",
   "execution_count": 73,
   "id": "384cbb1c-3f0f-414f-91d2-7f18baa533c3",
   "metadata": {},
   "outputs": [
    {
     "data": {
      "text/plain": [
       "get_tdl (generic function with 1 method)"
      ]
     },
     "execution_count": 73,
     "metadata": {},
     "output_type": "execute_result"
    }
   ],
   "source": [
    "include(\"get_tld.jl\")"
   ]
  },
  {
   "cell_type": "code",
   "execution_count": 74,
   "id": "16123874-915b-4a10-a90c-d1210a98ed73",
   "metadata": {},
   "outputs": [
    {
     "ename": "LoadError",
     "evalue": "DimensionMismatch: number of rows of each array must match (got (0, 12))",
     "output_type": "error",
     "traceback": [
      "DimensionMismatch: number of rows of each array must match (got (0, 12))",
      "",
      "Stacktrace:",
      " [1] _typed_hcat(::Type{Any}, A::Tuple{Vector{Any}, StepRangeLen{Float64, Base.TwicePrecision{Float64}, Base.TwicePrecision{Float64}, Int64}})",
      "   @ Base ./abstractarray.jl:1664",
      " [2] typed_hcat",
      "   @ ./abstractarray.jl:1643 [inlined]",
      " [3] hcat",
      "   @ ./abstractarray.jl:1653 [inlined]",
      " [4] get_tdl(fs::Float64, SCS::Float64, PRBS::UnitRange{Int64}, DS::Float64, chan::String)",
      "   @ Main ~/Developer/DigiCom/Labs/TP3/get_tld.jl:53",
      " [5] top-level scope",
      "   @ In[74]:8"
     ]
    }
   ],
   "source": [
    "# Example 1: TDL-C Channel\n",
    "fs = 122.88e6\n",
    "SCS = 30e3\n",
    "PRBS = 0:105\n",
    "DS = 300e-9\n",
    "chan = \"tdlc\"\n",
    "\n",
    "H_tdlc = get_tdl(fs, SCS, PRBS, DS, chan)\n",
    "# println(\"TDL-C Channel Impulse Response: \", H_tdlc)\n",
    "\n"
   ]
  },
  {
   "cell_type": "code",
   "execution_count": 24,
   "id": "1ca033ed-901a-4685-a642-1423b38f37d3",
   "metadata": {},
   "outputs": [
    {
     "ename": "LoadError",
     "evalue": "UndefVarError: `f` not defined",
     "output_type": "error",
     "traceback": [
      "UndefVarError: `f` not defined",
      "",
      "Stacktrace:",
      " [1] get_tdl(fs::Float64, SCS::Float64, PRBS::UnitRange{Int64}, DS::Float64, chan::String)",
      "   @ Main ./In[19]:45",
      " [2] top-level scope",
      "   @ In[24]:4"
     ]
    }
   ],
   "source": [
    "# Example 2: TDL-D Channel\n",
    "chan = \"tdld\"\n",
    "\n",
    "H_tdld = get_tdl(fs, SCS, PRBS, DS, chan)\n",
    "println(\"TDL-D Channel Impulse Response: \", H_tdld)\n"
   ]
  },
  {
   "cell_type": "code",
   "execution_count": null,
   "id": "c9c529ea-6c8c-42a6-95dd-60662a9a63fa",
   "metadata": {},
   "outputs": [],
   "source": []
  }
 ],
 "metadata": {
  "kernelspec": {
   "display_name": "Julia 1.9.3",
   "language": "julia",
   "name": "julia-1.9"
  },
  "language_info": {
   "file_extension": ".jl",
   "mimetype": "application/julia",
   "name": "julia",
   "version": "1.10.0"
  }
 },
 "nbformat": 4,
 "nbformat_minor": 5
}
