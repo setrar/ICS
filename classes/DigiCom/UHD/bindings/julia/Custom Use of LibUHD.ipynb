{
 "cells": [
  {
   "cell_type": "code",
   "execution_count": 1,
   "id": "265a91b9-2ae8-4339-8718-b0f6dbea7d21",
   "metadata": {},
   "outputs": [],
   "source": [
    "# ----------------------------------------------------\n",
    "# --- Load packages\n",
    "# ---------------------------------------------------- \n",
    "using UHDBindings \n",
    "import UHDBindings.LibUHD as LibUHD\n",
    "import UHDBindings.initRxUHD\n",
    "import UHDBindings.@assert_uhd"
   ]
  },
  {
   "cell_type": "code",
   "execution_count": 2,
   "id": "5cec9579-3ea0-4130-8e1a-5b8064a85e13",
   "metadata": {},
   "outputs": [
    {
     "data": {
      "text/plain": [
       "2"
      ]
     },
     "execution_count": 2,
     "metadata": {},
     "output_type": "execute_result"
    }
   ],
   "source": [
    "# ----------------------------------------------------\n",
    "# --- Parameters \n",
    "# ---------------------------------------------------- \n",
    "carrierFreq = 868e6\n",
    "samplingRate= 2e6\n",
    "gain        = 25\n",
    "uhdArgs     = \"\"\n",
    "nbAntennaRx = 2"
   ]
  },
  {
   "cell_type": "code",
   "execution_count": 3,
   "id": "866c5f53-de7f-4690-824a-f032a23d5520",
   "metadata": {},
   "outputs": [
    {
     "name": "stderr",
     "output_type": "stream",
     "text": [
      "[INFO] [UHD] Mac OS; Clang version 12.0.0 (/home/mose/.julia/dev/BinaryBuilderBase/deps/downloads/llvm-project.git d28af7c654d8db0b68c175db5ce212d74fb5e9bc); Boost_107600; UHD_4.1.0.HEAD-0-g6bd0be9c\n",
      "[INFO] [B200] Loading firmware image: /opt/local/share/uhd/images/usrp_b200_fw.hex...\n",
      "[INFO] [B200] Detected Device: B200mini\n",
      "[INFO] [B200] Loading FPGA image: /opt/local/share/uhd/images/usrp_b200mini_fpga.bin...\n",
      "[INFO] [B200] Operating over USB 3.\n",
      "[INFO] [B200] Initialize CODEC control...\n",
      "[INFO] [B200] Initialize Radio control...\n",
      "[INFO] [B200] Performing register loopback test... \n",
      "[INFO] [B200] Register loopback test passed\n",
      "[INFO] [B200] Setting master clock rate selection to 'automatic'.\n",
      "[INFO] [B200] Asking for clock rate 16.000000 MHz... \n",
      "[INFO] [B200] Actually got clock rate 16.000000 MHz.\n"
     ]
    },
    {
     "data": {
      "text/plain": [
       "UHDBinding(Base.RefValue{Ptr{UHDBindings.LibUHD.uhd_usrp}}(Ptr{UHDBindings.LibUHD.uhd_usrp} @0x000060000284fd80), UHDRx(UHDBindings.UHDRxWrapper(true, Ptr{UHDBindings.LibUHD.uhd_usrp} @0x000060000284fd80, Ptr{UHDBindings.LibUHD.uhd_rx_streamer} @0x0000600002764480, Ptr{UHDBindings.LibUHD.uhd_rx_metadata_t} @0x00006000003c7250, Base.RefValue{Ptr{UHDBindings.LibUHD.uhd_rx_streamer}}(Ptr{UHDBindings.LibUHD.uhd_rx_streamer} @0x0000600002764480), Base.RefValue{Ptr{UHDBindings.LibUHD.uhd_rx_metadata_t}}(Ptr{UHDBindings.LibUHD.uhd_rx_metadata_t} @0x00006000003c7250), Base.RefValue{UInt64}(0x0000000000000000)), 8.68e8, 2.0e6, 25, [\"RX2\"], [0], 0x0000000000000000, 0, 0, false), UHDTx(UHDBindings.UHDTxWrapper(true, Ptr{UHDBindings.LibUHD.uhd_usrp} @0x000060000284fd80, Ptr{UHDBindings.LibUHD.uhd_tx_streamer} @0x0000600002764990, Ptr{UHDBindings.LibUHD.uhd_tx_metadata_t} @0x0000600000b24280, Base.RefValue{Ptr{UHDBindings.LibUHD.uhd_tx_streamer}}(Ptr{UHDBindings.LibUHD.uhd_tx_streamer} @0x0000600002764990), Base.RefValue{Ptr{UHDBindings.LibUHD.uhd_tx_metadata_t}}(Ptr{UHDBindings.LibUHD.uhd_tx_metadata_t} @0x0000600000b24280)), 8.68e8, 2.0e6, 25, [\"TRX\"], [0], 0x0000000000000000, 0, 0))"
      ]
     },
     "execution_count": 3,
     "metadata": {},
     "output_type": "execute_result"
    }
   ],
   "source": [
    "# ---------------------------------------------------- \n",
    "# --- Create radio \n",
    "# ---------------------------------------------------- \n",
    "# --- Open radio, in MIMO mode \n",
    "# Note the warning about the streamer. It can not be set in MIMO mode \n",
    "# The configuration will be updated later, and most of the parameters overwritten\n",
    "# To ensure we have what we want, we need to bypass the streamer, and deactivate all antennas\n",
    "radio = openUHD(carrierFreq,samplingRate,gain;nbAntennaRx=0,nbAntennaTx=0,bypassStreamer = true)\n"
   ]
  },
  {
   "cell_type": "code",
   "execution_count": 4,
   "id": "a5a6d770-36ed-4e8a-9754-0d642a5ec1a8",
   "metadata": {},
   "outputs": [],
   "source": [
    "# ----------------------------------------------------\n",
    "# --- Set up Radio \n",
    "# ---------------------------------------------------- \n",
    "# --- Channels  & Antenna \n",
    "channelIndexes = [0,1]\n",
    "antennas       = [\"TX/RX\",\"RX2\"]\n",
    "# --- Streamer arguments\n",
    "a1\t\t\t   =  Base.unsafe_convert(Cstring,\"fc32\");\n",
    "a2\t\t\t   =  Base.unsafe_convert(Cstring,\"sc16\");\n",
    "a3\t\t\t   =  Base.unsafe_convert(Cstring,uhdArgs);\n",
    "channel        = pointer(channelIndexes)\n",
    "uhdArgs_0\t   = LibUHD.uhd_stream_args_t(a1,a2,a3,channel,nbAntennaRx);"
   ]
  },
  {
   "cell_type": "code",
   "execution_count": 5,
   "id": "7fc72e91-4b66-49e2-b88b-4e6ae26da423",
   "metadata": {},
   "outputs": [
    {
     "name": "stdout",
     "output_type": "stream",
     "text": [
      "\u001b[93m\u001b[1m┌Rx Warning: \u001b[22m\u001b[39mEffective carrier frequency is 867.9999999999992 MHz and not 868.0 MHz\n",
      "\u001b[93m\u001b[1m┌Rx Warning: \u001b[22m\u001b[39mEffective carrier frequency is 0.0 MHz and not 868.0 MHz\n",
      "\u001b[93m\u001b[1m┌Rx Warning: \u001b[22m\u001b[39mEffective Rate is 0.0 MHz and not 2.0 MHz\n",
      "\u001b[93m\u001b[1m┌Rx Warning: \u001b[22m\u001b[39mEffective gain is 0.0 dB and not 25 dB\n"
     ]
    },
    {
     "name": "stderr",
     "output_type": "stream",
     "text": [
      "[INFO] [B200] Asking for clock rate 32.000000 MHz... \n",
      "[INFO] [B200] Actually got clock rate 32.000000 MHz.\n"
     ]
    }
   ],
   "source": [
    "# --- RF Configuration \n",
    "for (c,currChan) in enumerate(channelIndexes[1:nbAntennaRx])\n",
    "    # Set the carrier frequencies \n",
    "    updateCarrierFreq!(radio.rx,carrierFreq,currChan)\n",
    "    # Set the sampling rate \n",
    "    updateSamplingRate!(radio.rx,samplingRate,currChan)\n",
    "    # Set the gains \n",
    "    updateGain!(radio.rx,gain,currChan)\n",
    "    # Set the antennas\n",
    "    LibUHD.uhd_usrp_set_rx_antenna(radio.rx.uhd.pointerUSRP,antennas[c],currChan)\n",
    "end"
   ]
  },
  {
   "cell_type": "markdown",
   "id": "869978cb-6c29-4a3c-a57c-07fcb542a288",
   "metadata": {},
   "source": [
    "# References\n",
    "\n",
    "- [ ] [Custom Use of LibUHD](https://docs.juliahub.com/UHDBindings/BKGJc/0.3.3/use_libuhd/)"
   ]
  }
 ],
 "metadata": {
  "kernelspec": {
   "display_name": "Julia 1.9.3",
   "language": "julia",
   "name": "julia-1.9"
  },
  "language_info": {
   "file_extension": ".jl",
   "mimetype": "application/julia",
   "name": "julia",
   "version": "1.9.4"
  }
 },
 "nbformat": 4,
 "nbformat_minor": 5
}
