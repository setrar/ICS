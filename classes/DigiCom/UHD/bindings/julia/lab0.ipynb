{
 "cells": [
  {
   "cell_type": "markdown",
   "id": "d403b518-3439-41c6-8184-425411218853",
   "metadata": {},
   "source": [
    "# Lab 0 \n",
    "\n",
    "Outdoor Cell: \n",
    "\n",
    "- band n41 (2.6Ghz), 20 Mhz\n",
    "- sampling rate fs: 30.72 MS/s\n",
    "- rxgain -> max value\n",
    "- DL frequency ( center 2585.1 Mhz)\n",
    "- samples 20ms@3072 ms/s -> 614400\n",
    "  \n",
    "for (ever) {\n",
    "\n",
    "   get 20 ms of signal; ( get-samples-and-stop)\n",
    "\n",
    "   run la session:\n",
    "\n",
    "   - spectrum + plot in dB (20log10(abs(fft( x * s )\n",
    "   - pss correlation -> plot\n",
    "   - frq offset estimation -> offset output\n",
    "\n",
    "}\n"
   ]
  },
  {
   "cell_type": "code",
   "execution_count": 1,
   "id": "34327f40-7806-4010-9236-4e4add0a6eba",
   "metadata": {},
   "outputs": [],
   "source": [
    "using UHDBindings\n",
    "using Plots"
   ]
  },
  {
   "cell_type": "code",
   "execution_count": 2,
   "id": "e59cd97c-bf20-44bf-90a2-f4c444f7d919",
   "metadata": {},
   "outputs": [],
   "source": [
    "# ---------------------------------------------------- \n",
    "# --- Physical layer and RF parameters \n",
    "# ---------------------------------------------------- \n",
    "carrierFreq\t  = 2585e6; \t# --- The carrier frequency (Hz)\t\n",
    "samplingRate  =  30.72e6;  # --- Targeted bandwidth (Hz)\n",
    "rxGain\t\t  =  70.0;  # --- Rx gain (dB)\n",
    "nbSamples\t  =  614400;  # --- Desired number of samples"
   ]
  },
  {
   "cell_type": "code",
   "execution_count": 3,
   "id": "d64e26f0-a429-46fa-992e-5a6a0cd51363",
   "metadata": {},
   "outputs": [
    {
     "name": "stdout",
     "output_type": "stream",
     "text": [
      "\u001b[93m\u001b[1m┌Rx Warning: \u001b[22m\u001b[39mEffective carrier frequency is 2584.999999999999 MHz and not 2585.0 MHz\n",
      "\u001b[93m\u001b[1m┌Rx Warning: \u001b[22m\u001b[39m"
     ]
    },
    {
     "name": "stderr",
     "output_type": "stream",
     "text": [
      "[INFO] [UHD] Mac OS; Clang version 12.0.0 (/home/mose/.julia/dev/BinaryBuilderBase/deps/downloads/llvm-project.git d28af7c654d8db0b68c175db5ce212d74fb5e9bc); Boost_107600; UHD_4.1.0.HEAD-0-g6bd0be9c\n",
      "[INFO] [B200] Detected Device: B205mini\n",
      "[INFO] [B200] Operating over USB 3.\n",
      "[INFO] [B200] Initialize CODEC control...\n",
      "[INFO] [B200] Initialize Radio control...\n",
      "[INFO] [B200] Performing register loopback test... \n",
      "[INFO] [B200] Register loopback test passed\n",
      "[INFO] [B200] Setting master clock rate selection to 'automatic'.\n",
      "[INFO] [B200] Asking for clock rate 16.000000 MHz... \n",
      "[INFO] [B200] Actually got clock rate 16.000000 MHz.\n"
     ]
    },
    {
     "name": "stdout",
     "output_type": "stream",
     "text": [
      "Effective Rate is 30.720000023935356 MHz and not 30.72 MHz\n",
      "\u001b[93m\u001b[1m┌Tx Warning: \u001b[22m\u001b[39mEffective carrier frequency is 2584.999999997615 MHz and not 2585.0 MHz\n",
      "\u001b[93m\u001b[1m┌Tx Warning: \u001b[22m\u001b[39mEffective Rate is 30.720000023935356 MHz and not 30.72 MHz\n"
     ]
    },
    {
     "name": "stderr",
     "output_type": "stream",
     "text": [
      "[INFO] [B200] Asking for clock rate 30.720000 MHz... \n",
      "[INFO] [B200] Actually got clock rate 30.720000 MHz.\n"
     ]
    },
    {
     "name": "stdout",
     "output_type": "stream",
     "text": [
      "\u001b[92m\u001b[1m┌Rx: \u001b[22m\u001b[39mCurrent UHD Configuration in Rx mode\n",
      "\u001b[92m\u001b[1m|\u001b[22m\u001b[39m Carrier Frequency: 2585.000 MHz\n",
      "\u001b[92m\u001b[1m|\u001b[22m\u001b[39m Sampling Frequency: 30.720 MHz\n",
      "\u001b[92m\u001b[1m└ \u001b[22m\u001b[39m Rx Gain: 70.00 dB\n",
      "\u001b[94m\u001b[1m┌Tx: \u001b[22m\u001b[39mCurrent UHD Configuration in Tx mode\n",
      "\u001b[94m\u001b[1m|\u001b[22m\u001b[39m Carrier Frequency: 2585.000 MHz\n",
      "\u001b[94m\u001b[1m|\u001b[22m\u001b[39m Sampling Frequency: 30.720 MHz\n",
      "\u001b[94m\u001b[1m└ \u001b[22m\u001b[39m Tx Gain: 70.00 dB\n"
     ]
    }
   ],
   "source": [
    "# ---------------------------------------------------- \n",
    "# --- Getting all system with function calls  \n",
    "# ---------------------------------------------------- \n",
    "# --- Creating the radio ressource \n",
    "radio\t= openUHD(carrierFreq,samplingRate,rxGain);\n",
    "# --- Display the current radio configuration\n",
    "# Both Tx and Rx sides.\n",
    "print(radio);"
   ]
  },
  {
   "cell_type": "code",
   "execution_count": 4,
   "id": "daccd531-b3cb-49b0-b82b-345011bfbfae",
   "metadata": {},
   "outputs": [
    {
     "name": "stdout",
     "output_type": "stream",
     "text": [
      "sig[1:20] = ComplexF32[0.0f0 + 0.0f0im, 0.0f0 + 0.0f0im, 0.0f0 + 0.0f0im, 0.0f0 + 0.0f0im, 0.0f0 + 0.0f0im, 0.0f0 + 0.0f0im, 0.0f0 + 0.0f0im, 0.0f0 + 0.0f0im, 0.0f0 + 0.0f0im, 0.0f0 + 0.0f0im, 0.14099547f0 - 0.02685628f0im, 0.13223667f0 - 0.0058595524f0im, 0.06097597f0 - 0.13415934f0im, -0.24250002f0 + 0.012665179f0im, -0.26642653f0 - 0.28934592f0im, -0.22589795f0 + 0.045381013f0im, -0.19956048f0 - 0.033173613f0im, -0.076631956f0 - 0.19128998f0im, 0.081972696f0 + 0.13077179f0im, 0.34983358f0 + 0.13126008f0im]\n"
     ]
    },
    {
     "name": "stderr",
     "output_type": "stream",
     "text": [
      "OD"
     ]
    }
   ],
   "source": [
    "# --- Getting a buffer from the radio \n",
    "sig\t= recv(radio,nbSamples); @show sig[1:20];"
   ]
  },
  {
   "cell_type": "code",
   "execution_count": 5,
   "id": "8d91b1af-f8b6-440d-a3f3-fe382bb32e22",
   "metadata": {},
   "outputs": [
    {
     "name": "stdout",
     "output_type": "stream",
     "text": [
      "buffer[1:20] = ComplexF32[-0.0028077022f0 + 0.1977599f0im, -0.12738423f0 + 0.11960201f0im, -0.126194f0 + 0.0720847f0im, -0.09082306f0 + 0.045747235f0im, -0.090914614f0 - 0.25305942f0im, -0.20441292f0 - 0.13730274f0im, 0.15399636f0 - 0.31214324f0im, -0.17090361f0 - 0.21344641f0im, -0.3581041f0 + 0.085329734f0im, -0.113742456f0 - 0.08426158f0im, -0.2262947f0 - 0.06299019f0im, 0.020508433f0 + 0.16635635f0im, 0.09518721f0 - 0.14774007f0im, 0.06231878f0 - 0.0545976f0im, -0.11136201f0 + 0.05984678f0im, 0.09317299f0 + 0.05484175f0im, 0.0062257745f0 + 0.31644633f0im, -0.19089323f0 + 0.005066071f0im, -0.08468884f0 - 0.07351907f0im, -0.19214448f0 - 0.25257114f0im]\n"
     ]
    },
    {
     "name": "stderr",
     "output_type": "stream",
     "text": [
      "OD"
     ]
    }
   ],
   "source": [
    "# This also can be done with pre-allocation \n",
    "buffer = zeros(Complex{Cfloat},nbSamples);\n",
    "recv!(buffer,radio); @show buffer[1:20];"
   ]
  },
  {
   "cell_type": "code",
   "execution_count": 6,
   "id": "a225028d-fdd9-413d-9763-e5c061d5ff3a",
   "metadata": {},
   "outputs": [
    {
     "name": "stdout",
     "output_type": "stream",
     "text": [
      "\n"
     ]
    },
    {
     "name": "stderr",
     "output_type": "stream",
     "text": [
      "\u001b[36m\u001b[1m[ \u001b[22m\u001b[39m\u001b[36m\u001b[1mInfo: \u001b[22m\u001b[39mUSRP device is now closed.\n"
     ]
    }
   ],
   "source": [
    "# --- Release the radio ressources\n",
    "close(radio); "
   ]
  },
  {
   "cell_type": "code",
   "execution_count": 7,
   "id": "20820f53-3328-46ae-ac62-59ec64d042f2",
   "metadata": {},
   "outputs": [
    {
     "data": {
      "text/plain": [
       "1.0:0.001:614400.0"
      ]
     },
     "execution_count": 7,
     "metadata": {},
     "output_type": "execute_result"
    }
   ],
   "source": [
    "# --- Output to signal \n",
    "N = length(buffer);\n",
    "t = 1:0.001:N"
   ]
  },
  {
   "cell_type": "code",
   "execution_count": 8,
   "id": "6c5e8dc7-864a-4101-bcc7-a781cb9418c3",
   "metadata": {},
   "outputs": [],
   "source": [
    "pl1 = plot(abs.(buffer))\n",
    "savefig(pl1, \"images/pl1_plot.png\");"
   ]
  },
  {
   "cell_type": "markdown",
   "id": "65038714-d64c-4ac4-b942-fdba7c104d8d",
   "metadata": {},
   "source": [
    "<img src=images/pl1_plot.png width='' height='' > </img>"
   ]
  },
  {
   "cell_type": "code",
   "execution_count": 9,
   "id": "9f9276ed-ef77-4ec5-a3af-7233feed8de6",
   "metadata": {},
   "outputs": [],
   "source": [
    "pl2 = plot(buffer, st=:scatter)\n",
    "savefig(pl2, \"images/pl2_plot.png\");"
   ]
  },
  {
   "cell_type": "markdown",
   "id": "f7106acd-e42b-45bc-a10e-c290bd37d0ed",
   "metadata": {},
   "source": [
    "<img src=images/pl2_plot.png width='' height='' > </img>"
   ]
  },
  {
   "cell_type": "code",
   "execution_count": null,
   "id": "a58d9440-c475-4218-89bb-f99cf2462c17",
   "metadata": {},
   "outputs": [],
   "source": []
  }
 ],
 "metadata": {
  "kernelspec": {
   "display_name": "Julia 1.9.3",
   "language": "julia",
   "name": "julia-1.9"
  },
  "language_info": {
   "file_extension": ".jl",
   "mimetype": "application/julia",
   "name": "julia",
   "version": "1.10.4"
  }
 },
 "nbformat": 4,
 "nbformat_minor": 5
}
