{
 "cells": [
  {
   "cell_type": "code",
   "execution_count": 2,
   "id": "0ea94b63-adbc-4ca4-b54b-5af82dc6eb74",
   "metadata": {},
   "outputs": [],
   "source": [
    "using SignalAnalysis"
   ]
  },
  {
   "cell_type": "code",
   "execution_count": 3,
   "id": "3c255b54-0f9e-46af-b65c-292c852feffc",
   "metadata": {},
   "outputs": [
    {
     "ename": "LoadError",
     "evalue": "syntax: \"tfd(s, kernel::Spectrogram; onesided, fs)\" is not a valid function argument name around In[3]:1",
     "output_type": "error",
     "traceback": [
      "syntax: \"tfd(s, kernel::Spectrogram; onesided, fs)\" is not a valid function argument name around In[3]:1",
      "",
      "Stacktrace:",
      " [1] top-level scope",
      "   @ In[3]:1"
     ]
    }
   ],
   "source": [
    "tfd(\n",
    "    s,\n",
    "    kernel::Spectrogram;\n",
    "    onesided,\n",
    "    fs\n",
    ") -> SignalAnalysis.TFD{_A} where _A\n"
   ]
  },
  {
   "cell_type": "code",
   "execution_count": null,
   "id": "9e6f9445-97ca-4213-be37-07bf8435f4b7",
   "metadata": {},
   "outputs": [],
   "source": []
  }
 ],
 "metadata": {
  "kernelspec": {
   "display_name": "Julia 1.9.3",
   "language": "julia",
   "name": "julia-1.9"
  },
  "language_info": {
   "file_extension": ".jl",
   "mimetype": "application/julia",
   "name": "julia",
   "version": "1.9.3"
  }
 },
 "nbformat": 4,
 "nbformat_minor": 5
}
