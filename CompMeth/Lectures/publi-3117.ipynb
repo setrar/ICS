{
 "cells": [
  {
   "cell_type": "code",
   "execution_count": null,
   "id": "7a0e9583-6e19-4511-9f34-ffe279efd62b",
   "metadata": {},
   "outputs": [],
   "source": [
    "## Low Complexity Metrics for BCIM SISO and MIMO Systems"
   ]
  },
  {
   "cell_type": "code",
   "execution_count": 14,
   "id": "3e62c31d-99e6-4b1c-8ab1-d03d61906db3",
   "metadata": {},
   "outputs": [],
   "source": [
    "using FFTW"
   ]
  },
  {
   "cell_type": "code",
   "execution_count": 18,
   "id": "69abdd52-6cda-4d66-adaa-5ee8fc68fdc6",
   "metadata": {},
   "outputs": [],
   "source": [
    "using LinearAlgebra"
   ]
  },
  {
   "cell_type": "code",
   "execution_count": 44,
   "id": "20d8bee4-53c2-4452-96f2-abda001ab8a1",
   "metadata": {},
   "outputs": [
    {
     "data": {
      "text/plain": [
       "abs (generic function with 11 methods)"
      ]
     },
     "execution_count": 44,
     "metadata": {},
     "output_type": "execute_result"
    }
   ],
   "source": [
    "include(\"../modules/operations.jl\")"
   ]
  },
  {
   "cell_type": "code",
   "execution_count": 45,
   "id": "a670b788-f594-42de-aeda-60827f1653cb",
   "metadata": {},
   "outputs": [
    {
     "name": "stdout",
     "output_type": "stream",
     "text": [
      "b = 1\n",
      "round(√(∑([yᵢ ^ 2 for yᵢ = a₁])), digits = 3) = 2.236\n",
      "(round(c, digits = 3), #= In[45]:4 =# @show(round(√(∑([yᵢ ^ 2 for yᵢ = a₁])), digits = 3))) = (2.236, 2.236)\n"
     ]
    }
   ],
   "source": [
    "a  = -1\n",
    "a₁ = [ 1 2 ]  \n",
    "b  = |(a); @show b\n",
    "c  = |₂(a₁); @show round(c, digits = 3), @show round(√(∑([ yᵢ^2 for yᵢ in a₁])), digits = 3);"
   ]
  },
  {
   "cell_type": "markdown",
   "id": "5b406112-af18-424b-9e50-d571d0afcd2b",
   "metadata": {},
   "source": [
    "# &#x1F4DA; References"
   ]
  },
  {
   "cell_type": "markdown",
   "id": "3ac4797a-95ec-4f78-b908-b40e251d42f4",
   "metadata": {},
   "source": [
    "#### &#x1F3F7; In signal processing, key metrics include:\n",
    "\n",
    "- **SNR (Signal-to-Noise Ratio):** Quality of signal relative to background noise.\n",
    "- **BER (Bit Error Rate):** Rate of errors in received bits.\n",
    "- **MSE (Mean Squared Error):** Average squared difference between original and estimated signals.\n",
    "- **PSNR (Peak Signal-to-Noise Ratio):** Measures error between original and compressed images.\n",
    "- **Spectral Efficiency:** Information rate per bandwidth unit.\n",
    "- **Cross-Correlation:** Similarity measure between two signals over a shift.\n",
    "- **Energy Efficiency:** Bits transmitted per energy unit.\n",
    "- **THD (Total Harmonic Distortion):** Degree of signal distortion compared to the original."
   ]
  },
  {
   "cell_type": "markdown",
   "id": "0a2644fe-cc1d-4289-a020-4f6b2c94ea09",
   "metadata": {},
   "source": [
    "#### &#x1F3F7; BICM stands for `B`it-`I`nterleaved `C`oded `M`odulation, \n",
    "\n",
    "a technique used in digital communication systems to improve the robustness of data transmission over noisy channels. BICM combines channel coding (error-correction coding) with modulation in a way that increases the system's ability to correct errors induced by the channel, thereby enhancing the overall spectral efficiency and reliability of the communication system.\n",
    "\n",
    "The process involves three main steps:\n",
    "1. **Channel Coding:** Data bits are encoded using an error-correcting code, which adds redundancy to the data to allow error detection and correction at the receiver.\n",
    "2. **Bit Interleaving:** The coded bits are then interleaved (reordered in a pseudo-random manner) to spread the errors that may occur in bursts over the transmitted data stream. This interleaving helps to distribute the errors more uniformly, making it easier for the error correction process at the receiver to correct these errors.\n",
    "3. **Modulation:** Finally, the interleaved bits are mapped to symbols according to a modulation scheme (e.g., QPSK, 16-QAM, etc.) and transmitted over the channel.\n",
    "\n",
    "At the receiver, the inverse operations are performed: demodulation, deinterleaving, and error correction decoding. The deinterleaving process rearranges the bits back to their original order before decoding."
   ]
  },
  {
   "cell_type": "markdown",
   "id": "44791daa-1fbf-47e1-a3c1-0e77c4fd0ba8",
   "metadata": {},
   "source": [
    "#### &#x1F3F7;  A `bit metric` refers to a quantitative measure that evaluates the likelihood or reliability of bits received over a communication channel. \n",
    "\n",
    "Bit metrics are essential in decoding processes, particularly in systems using soft decision decoding algorithms, where they provide detailed information about the probability or confidence level of each received bit being a '0' or '1'.\n",
    "\n",
    "### Purpose and Usage:\n",
    "- **Soft Decision Decoding:** Bit metrics are used in soft decision decoding to improve error correction performance. Unlike hard decision decoding, which considers only the final decision of each bit (either '0' or '1'), soft decision decoding utilizes the bit metric to gauge how \"close\" the bit is to '0' or '1', incorporating this into the error correction process.\n",
    "- **Error Correction Coding:** In schemes like Turbo Codes, LDPC (Low-Density Parity-Check) Codes, and Convolutional Codes, bit metrics facilitate more effective decoding by allowing the decoder to consider the reliability of each bit received, thereby enhancing the correction of errors.\n",
    "\n",
    "### Calculation:\n",
    "Bit metrics can be derived from various signal attributes, such as:\n",
    "- Signal-to-noise ratio (SNR)\n",
    "- Received signal strength\n",
    "- Phase shifts\n",
    "- Distortions observed in the received signal\n",
    "\n",
    "The specific method for calculating bit metrics depends on the modulation scheme, channel characteristics, and the receiver's design. In practical systems, these metrics often involve logarithmic likelihood ratios (LLRs) or other probabilistic measures that reflect the confidence or likelihood of each bit's value based on the received signal's characteristics.\n",
    "\n",
    "In summary, bit metrics play a crucial role in modern digital communication systems by enabling more accurate decoding and error correction, leading to improved data transmission reliability and efficiency."
   ]
  },
  {
   "cell_type": "markdown",
   "id": "9b43c516-556e-4519-af3d-c3ba48d98957",
   "metadata": {},
   "source": [
    "### Conceptual Example:\n",
    "Imagine you receive a signal after it has passed through a noisy channel, and you wish to calculate the bit metric for a simple BPSK (Binary Phase Shift Keying) modulated signal. In BPSK, bits are represented by two symbols, -1 (for bit '0') and +1 (for bit '1'), with noise added during transmission.\n",
    "\n",
    "Let's say you receive a signal value of 0.8. In a noise-free scenario, this value should be +1 for bit '1'. The bit metric, in this case, could be calculated as the likelihood of this signal being closer to +1 or -1, often expressed in terms of probability or as a Log-Likelihood Ratio (LLR).\n",
    "\n",
    "We'll calculate a simple bit metric assuming Gaussian noise. The metric will indicate the likelihood of the received signal corresponding to a '0' or '1'.\n",
    "\n",
    "This example calculates a simple metric based on the distance of the received signal from the expected BPSK symbols, normalized by noise variance. A more sophisticated approach might involve calculating Log-Likelihood Ratios (LLRs) for use in soft decision decoding algorithms.\n"
   ]
  },
  {
   "cell_type": "code",
   "execution_count": 46,
   "id": "3c4c6a19-dfc8-448e-b7ea-9fd9cc265a8c",
   "metadata": {},
   "outputs": [
    {
     "name": "stdout",
     "output_type": "stream",
     "text": [
      "Metric for '0': -16.200000\n",
      "Metric for '1': -0.200000\n",
      "Decision based on metric: 1\n"
     ]
    }
   ],
   "source": [
    "### Numerical Example in Python (Adaptable to Julia):\n",
    "using Printf\n",
    "\n",
    "# Received signal value\n",
    "received_signal = 0.8\n",
    "\n",
    "# Assume noise variance\n",
    "noise_variance = 0.1\n",
    "\n",
    "# BPSK symbols for '0' and '1'\n",
    "symbol_0 = -1\n",
    "symbol_1 = 1\n",
    "\n",
    "# Calculate metric for '0' and '1'\n",
    "metric_0 = -(received_signal - symbol_0)^2 / (2 * noise_variance)\n",
    "metric_1 = -(received_signal - symbol_1)^2 / (2 * noise_variance)\n",
    "\n",
    "# Print metrics\n",
    "@printf(\"Metric for '0': %f\\n\", metric_0)\n",
    "@printf(\"Metric for '1': %f\\n\", metric_1)\n",
    "\n",
    "# Decision based on higher metric\n",
    "decision = metric_0 > metric_1 ? '0' : '1'\n",
    "@printf(\"Decision based on metric: %c\\n\", decision)\n"
   ]
  },
  {
   "cell_type": "markdown",
   "id": "9aff5f60-7378-4c5a-aff0-c4ac1a07cbb4",
   "metadata": {},
   "source": [
    "#### &#x1F3F7;  `BPSK Symbols`\n",
    "- **BPSK Symbols:** Represent bits '0' and '1' with phases 0 degrees (-1) and 180 degrees (+1), respectively.\n",
    "- **Robustness:** Highly resistant to noise, ideal for low SNR scenarios.\n",
    "- **Spectral Efficiency:** Lower, due to one bit per symbol transmission.\n",
    "- **Applications:** Preferred in environments where signal integrity is crucial, like deep-space communications."
   ]
  },
  {
   "cell_type": "markdown",
   "id": "3641e21f-da84-4e80-99e8-c0a61b473b87",
   "metadata": {},
   "source": [
    "#### &#x1F3F7;  A Rayleigh channel \n",
    "- **Nature:** Models wireless channels with no dominant line-of-sight path.\n",
    "- **Characteristics:** Features multipath propagation leading to signal fading.\n",
    "- **Effect:** Causes amplitude variations due to constructive and destructive interference.\n",
    "- **Relevance:** Common in urban and densely built environments.\n",
    "- **Impact:** Influences design and performance of wireless communication systems."
   ]
  },
  {
   "cell_type": "markdown",
   "id": "b9c2549a-94aa-4aaf-92e4-91f978cad78a",
   "metadata": {},
   "source": [
    "#### &#x1F3F7;  Coded modulation over a Rayleigh channel \n",
    "\n",
    "It enhances data transmission reliability in environments with Rayleigh fading, which lacks a dominant line-of-sight path and features multiple scattering paths. This approach combines error-correction coding (like Convolutional, Turbo, or LDPC codes) with modulation techniques (such as PSK, QAM, OFDM) to:\n",
    "\n",
    "- **Combat Fading:** It counters signal fading caused by multipath propagation, a hallmark of Rayleigh channels.\n",
    "- **Improve Reliability:** Error-correction coding enables the system to correct transmission errors due to fading and shadowing, boosting transmission reliability.\n",
    "- **Enhance Efficiency:** Optimizes bandwidth and power use, balancing data rate with error performance in fading conditions.\n",
    "\n",
    "This methodology is crucial in wireless communications (e.g., LTE, 5G, Wi-Fi) where overcoming the challenges of Rayleigh fading is key to maintaining signal integrity and system performance."
   ]
  },
  {
   "cell_type": "code",
   "execution_count": null,
   "id": "27d5b755-fa68-4d0a-9015-bda05aa44169",
   "metadata": {},
   "outputs": [],
   "source": []
  },
  {
   "cell_type": "code",
   "execution_count": null,
   "id": "19df691a-9a0f-4cca-b81b-a8bfbe75b537",
   "metadata": {},
   "outputs": [],
   "source": []
  }
 ],
 "metadata": {
  "kernelspec": {
   "display_name": "Julia 1.9.3",
   "language": "julia",
   "name": "julia-1.9"
  },
  "language_info": {
   "file_extension": ".jl",
   "mimetype": "application/julia",
   "name": "julia",
   "version": "1.10.0"
  }
 },
 "nbformat": 4,
 "nbformat_minor": 5
}
