{
 "cells": [
  {
   "cell_type": "code",
   "execution_count": 1,
   "id": "cca01231-5df7-46aa-aae9-eeed548ee192",
   "metadata": {},
   "outputs": [],
   "source": [
    "using UHDBindings"
   ]
  },
  {
   "cell_type": "code",
   "execution_count": 2,
   "id": "c8ea8160-efc4-483f-833c-e6a294b641ae",
   "metadata": {},
   "outputs": [
    {
     "data": {
      "text/plain": [
       "main (generic function with 1 method)"
      ]
     },
     "execution_count": 2,
     "metadata": {},
     "output_type": "execute_result"
    }
   ],
   "source": [
    "function main()\n",
    "\t# ---------------------------------------------------- \n",
    "\t# --- Physical layer and RF parameters \n",
    "\t# ---------------------------------------------------- \n",
    "\tcarrierFreq\t  = 868e6; \t# --- The carrier frequency (Hz)\t\n",
    "\tsamplingRate  =  16e6;  # --- Targeted bandwidth (Hz)\n",
    "\trxGain\t\t  =  30.0;  # --- Rx gain (dB)\n",
    "\tnbSamples\t  =  4096;  # --- Desired number of samples\n",
    "\n",
    "\t# ---------------------------------------------------- \n",
    "\t# --- Getting all system with function calls  \n",
    "\t# ---------------------------------------------------- \n",
    "\t# --- Creating the radio resource \n",
    "\t# The first parameter is for specific parameter (FPGA bitstream, IP address)\n",
    "\tradio\t= openUHD(carrierFreq,samplingRate,rxGain);\n",
    "\t# --- Display the current radio configuration\n",
    "\tprint(radio);\n",
    "\t# --- Getting a buffer from the radio \n",
    "\tsigAll\t= recv(radio,nbSamples);\n",
    "\t# --- Release the radio resources\n",
    "\tclose(radio); \n",
    "end"
   ]
  },
  {
   "cell_type": "code",
   "execution_count": 3,
   "id": "c368a514-d960-4b60-a5cd-b19fd96ab925",
   "metadata": {},
   "outputs": [
    {
     "name": "stderr",
     "output_type": "stream",
     "text": [
      "[INFO] [UHD] Mac OS; Clang version 12.0.0 (/home/mose/.julia/dev/BinaryBuilderBase/deps/downloads/llvm-project.git d28af7c654d8db0b68c175db5ce212d74fb5e9bc); Boost_107600; UHD_4.1.0.HEAD-0-g6bd0be9c\n",
      "[WARNING] [B200] EnvironmentError: IOError: Could not find path for image: usrp_b200_fw.hex\n",
      "\n",
      "Using images directory: <no images directory located>\n",
      "\n",
      "Set the environment variable 'UHD_IMAGES_DIR' appropriately or follow the below instructions to download the images package.\n",
      "\n",
      "Please run:\n",
      "\n",
      " \"/Users/valiha/.julia/artifacts/3fe605e4baef88b8af8c0fed9cb532390084eb7d/lib/uhd/utils/uhd_images_downloader.py\"\n"
     ]
    },
    {
     "ename": "LoadError",
     "evalue": "Unable to create the UHD device. No attached UHD device found.",
     "output_type": "error",
     "traceback": [
      "Unable to create the UHD device. No attached UHD device found.",
      "",
      "Stacktrace:",
      " [1] error(s::String)",
      "   @ Base ./error.jl:35",
      " [2] macro expansion",
      "   @ ~/.julia/packages/UHDBindings/l94hn/src/Bindings.jl:30 [inlined]",
      " [3] openUHD(carrierFreq::Float64, samplingRate::Float64, gain::Float64; args::String, channels::Vector{Int64}, antennas::Dict{Symbol, Vector{String}}, cpu_format::String, otw_format::String, subdev::String, nbAntennaRx::Int64, nbAntennaTx::Int64, bypassStreamer::Bool)",
      "   @ UHDBindings ~/.julia/packages/UHDBindings/l94hn/src/UHDBindings.jl:141",
      " [4] openUHD(carrierFreq::Float64, samplingRate::Float64, gain::Float64)",
      "   @ UHDBindings ~/.julia/packages/UHDBindings/l94hn/src/UHDBindings.jl:135",
      " [5] main()",
      "   @ Main ./In[2]:15",
      " [6] top-level scope",
      "   @ In[3]:1"
     ]
    }
   ],
   "source": [
    "main()"
   ]
  }
 ],
 "metadata": {
  "kernelspec": {
   "display_name": "Julia 1.9.3",
   "language": "julia",
   "name": "julia-1.9"
  },
  "language_info": {
   "file_extension": ".jl",
   "mimetype": "application/julia",
   "name": "julia",
   "version": "1.10.1"
  }
 },
 "nbformat": 4,
 "nbformat_minor": 5
}
