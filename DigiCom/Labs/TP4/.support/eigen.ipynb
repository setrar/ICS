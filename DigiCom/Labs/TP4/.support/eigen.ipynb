{
 "cells": [
  {
   "cell_type": "code",
   "execution_count": 5,
   "id": "989d852a-e7ee-40dc-9782-267ceb918528",
   "metadata": {},
   "outputs": [],
   "source": [
    "using LinearAlgebra\n",
    "using Statistics\n",
    "using Random"
   ]
  },
  {
   "cell_type": "code",
   "execution_count": 20,
   "id": "dd5a06e7-241e-44ff-9daf-7076a5b72873",
   "metadata": {},
   "outputs": [
    {
     "data": {
      "text/plain": [
       "2×2 Matrix{Float64}:\n",
       " 0.917024   0.0277704\n",
       " 0.0277704  1.00093"
      ]
     },
     "execution_count": 20,
     "metadata": {},
     "output_type": "execute_result"
    }
   ],
   "source": [
    "# Set a seed for reproducibility\n",
    "Random.seed!(123)\n",
    "\n",
    "dimension = 2\n",
    "\n",
    "# Generate a random covariance matrix (replace this with your own covariance matrix)\n",
    "data = randn(100, dimension)  # Assuming 100 samples with 3 features\n",
    "data = [4.0 2.0; 1.0 3.0]\n",
    "cov_matrix = cov(data, dims=1)"
   ]
  },
  {
   "cell_type": "code",
   "execution_count": 18,
   "id": "b8371bf5-403f-4623-b053-a449dbb19db7",
   "metadata": {},
   "outputs": [
    {
     "data": {
      "text/plain": [
       "2-element Vector{Float64}:\n",
       " 5.551115123125783e-17\n",
       " 5.0"
      ]
     },
     "execution_count": 18,
     "metadata": {},
     "output_type": "execute_result"
    }
   ],
   "source": [
    "# Perform eigenvalue decomposition\n",
    "eigen_decomposition = eigen(cov_matrix)\n",
    "eigenvectors = eigen_decomposition.vectors\n",
    "eigenvalues = eigen_decomposition.values"
   ]
  },
  {
   "cell_type": "code",
   "execution_count": 19,
   "id": "66b77323-2811-4dd8-960c-e65a1a520000",
   "metadata": {},
   "outputs": [
    {
     "data": {
      "text/plain": [
       "2-element Vector{Float64}:\n",
       " -0.9486832980505138\n",
       "  0.3162277660168379"
      ]
     },
     "execution_count": 19,
     "metadata": {},
     "output_type": "execute_result"
    }
   ],
   "source": [
    "# Find the maximum eigenvalue\n",
    "max_eigenvalue = maximum(eigenvalues)\n",
    "\n",
    "# Find the index of the maximum eigenvalue\n",
    "max_eigenvalue_index = argmax(eigenvalues)\n",
    "\n",
    "# Get the corresponding eigenvector\n",
    "max_eigenvector = eigenvectors[:, max_eigenvalue_index]"
   ]
  },
  {
   "cell_type": "code",
   "execution_count": 15,
   "id": "3ef27c35-056a-4030-ac81-1d0e9e15a1bf",
   "metadata": {},
   "outputs": [
    {
     "name": "stdout",
     "output_type": "stream",
     "text": [
      "Covariance Matrix:\n",
      "[0.9170235442045491 0.027770384644089145; 0.027770384644089145 1.0009317853592519]\n",
      "\n",
      "Maximum Eigenvalue:\n",
      "1.0092901135068393\n",
      "\n",
      "Corresponding Eigenvector:\n",
      "[0.28820863157203525, 0.9575676397452947]\n"
     ]
    }
   ],
   "source": [
    "println(\"Covariance Matrix:\")\n",
    "println(cov_matrix)\n",
    "println(\"\\nMaximum Eigenvalue:\")\n",
    "println(max_eigenvalue)\n",
    "println(\"\\nCorresponding Eigenvector:\")\n",
    "println(max_eigenvector)"
   ]
  },
  {
   "cell_type": "markdown",
   "id": "1434ba5c-6048-4bd8-a0ac-6cc822d6d784",
   "metadata": {},
   "source": [
    "Eigenvalue decomposition, also known as spectral decomposition, is a mathematical operation that decomposes a square matrix into a set of eigenvectors and eigenvalues. It is commonly used in various fields such as linear algebra, statistics, and machine learning. For a given square matrix $ A $, the eigenvalue decomposition can be expressed as:\n",
    "\n",
    "$ A = Q \\Lambda Q^{-1} $\n",
    "\n",
    "Where:\n",
    "- $ Q $ is a matrix whose columns are the eigenvectors of $ A $.\n",
    "- $ \\Lambda $ is a diagonal matrix whose diagonal elements are the eigenvalues of $ A $.\n",
    "- $ Q^{-1} $ is the inverse of matrix $ Q $.\n",
    "\n",
    "In a more compact form, it can be written as $ A = Q \\Lambda Q^{-1} $ or $ A = Q \\Lambda Q^T $ if the matrix $ A $ is symmetric, where $ Q^T $ is the transpose of matrix $ Q $.\n",
    "\n",
    "The eigenvectors represent the directions of maximum variance (or stretch) of the linear transformation defined by the matrix $ A $, and the eigenvalues represent the scale factors associated with each eigenvector."
   ]
  },
  {
   "cell_type": "code",
   "execution_count": 16,
   "id": "f44d6ac6-febc-4d9b-be43-827a2c3fc924",
   "metadata": {},
   "outputs": [
    {
     "name": "stdout",
     "output_type": "stream",
     "text": [
      "Original Matrix:\n",
      "[4.0 2.0; 1.0 3.0]\n",
      "\n",
      "Eigenvectors:\n",
      "[-0.7071067811865475 0.8944271909999159; 0.7071067811865476 0.4472135954999579]\n",
      "\n",
      "Eigenvalues:\n",
      "[2.0, 5.0]\n"
     ]
    }
   ],
   "source": [
    "using LinearAlgebra\n",
    "\n",
    "# Create a sample matrix\n",
    "A = [4.0 2.0; 1.0 3.0]\n",
    "\n",
    "# Perform eigenvalue decomposition\n",
    "eigen_decomposition = eigen(A)\n",
    "\n",
    "# Extract eigenvectors and eigenvalues\n",
    "eigenvectors = eigen_decomposition.vectors\n",
    "eigenvalues = eigen_decomposition.values\n",
    "\n",
    "println(\"Original Matrix:\")\n",
    "println(A)\n",
    "\n",
    "println(\"\\nEigenvectors:\")\n",
    "println(eigenvectors)\n",
    "\n",
    "println(\"\\nEigenvalues:\")\n",
    "println(eigenvalues)"
   ]
  },
  {
   "cell_type": "markdown",
   "id": "10e5b36a-3cdb-46ad-8182-a14c9e007050",
   "metadata": {},
   "source": [
    "This example shows how to perform eigenvalue decomposition on a 2x2 matrix, extracting the eigenvectors and eigenvalues. The eigenvectors and eigenvalues obtained can be used to reconstruct the original matrix using the formula mentioned earlier."
   ]
  },
  {
   "cell_type": "code",
   "execution_count": null,
   "id": "ace77edd-ffde-4a02-8205-78e94516b4ff",
   "metadata": {},
   "outputs": [],
   "source": []
  }
 ],
 "metadata": {
  "kernelspec": {
   "display_name": "Julia 1.9.3",
   "language": "julia",
   "name": "julia-1.9"
  },
  "language_info": {
   "file_extension": ".jl",
   "mimetype": "application/julia",
   "name": "julia",
   "version": "1.10.0"
  }
 },
 "nbformat": 4,
 "nbformat_minor": 5
}
