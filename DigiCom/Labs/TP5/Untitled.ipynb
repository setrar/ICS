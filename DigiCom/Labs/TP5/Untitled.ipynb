{
 "cells": [
  {
   "cell_type": "code",
   "execution_count": 2,
   "id": "cefba2e0-5d3c-49b6-9821-b2f26b6abded",
   "metadata": {},
   "outputs": [],
   "source": [
    "file_path = \"catkira/1876954_7680KSPS_srsRAN_Project_gnb_short.sigmf-data\"\n",
    "x = read!(file_path, Array{Int32}(undef, 2200544));"
   ]
  },
  {
   "cell_type": "code",
   "execution_count": 3,
   "id": "9f58ca32-490b-48e2-aaa8-1b9b3b146353",
   "metadata": {},
   "outputs": [
    {
     "name": "stdout",
     "output_type": "stream",
     "text": [
      "(size(x), x[1]) = ((2200544,), 106496)\n"
     ]
    }
   ],
   "source": [
    "@show size(x), x[1];"
   ]
  },
  {
   "cell_type": "code",
   "execution_count": 4,
   "id": "54bb0bf4-7b1a-4df1-9f45-f5e6d5ac4a3f",
   "metadata": {},
   "outputs": [
    {
     "data": {
      "text/plain": [
       "40"
      ]
     },
     "execution_count": 4,
     "metadata": {},
     "output_type": "execute_result"
    }
   ],
   "source": [
    "𝑓ₛ = 7.68e6\n",
    "\n",
    "# This should be the nominal RF frequency of the subcarrier that we use as DC for demodulation\n",
    "# (used for NR phase compensation)\n",
    "f_dc = 1.87695e9\n",
    "\n",
    "# these are in units of samples and depend on 𝑓ₛ\n",
    "Tu = 512\n",
    "Ncp = div(144, 4)\n",
    "Ncpl = div(144 + 16, 4)"
   ]
  },
  {
   "cell_type": "code",
   "execution_count": null,
   "id": "f6e114ef-8def-41a3-b00b-344e0e9ef330",
   "metadata": {},
   "outputs": [],
   "source": []
  }
 ],
 "metadata": {
  "kernelspec": {
   "display_name": "Julia 1.9.3",
   "language": "julia",
   "name": "julia-1.9"
  },
  "language_info": {
   "file_extension": ".jl",
   "mimetype": "application/julia",
   "name": "julia",
   "version": "1.10.0"
  }
 },
 "nbformat": 4,
 "nbformat_minor": 5
}
