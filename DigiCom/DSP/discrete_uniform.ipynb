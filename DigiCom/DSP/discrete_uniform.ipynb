{
 "cells": [
  {
   "cell_type": "code",
   "execution_count": 1,
   "id": "a531b9e2-73f7-4968-940d-fc12f8162b19",
   "metadata": {},
   "outputs": [],
   "source": [
    "using SignalAnalysis, SignalAnalysis.Units\n"
   ]
  },
  {
   "cell_type": "code",
   "execution_count": 13,
   "id": "c742d275-e958-4481-8b32-64b6a253c368",
   "metadata": {},
   "outputs": [
    {
     "data": {
      "text/plain": [
       "SampledSignal @ 20000.0 Hz, 5001-element Vector{Float64}:\n",
       "  0.8639044087209837\n",
       "  0.6855325892175632\n",
       "  0.08568295791306062\n",
       "  0.08425990487153796\n",
       "  1.1832825721961193\n",
       "  0.46179153603690015\n",
       "  0.7426329131982615\n",
       " -0.546463116403823\n",
       "  0.5697863014841892\n",
       "  0.2682773669531647\n",
       " -0.387117295133471\n",
       "  1.416091755290396\n",
       " -1.1620807689335146\n",
       "  ⋮\n",
       " -0.6947859751712339\n",
       "  1.2621095692158473\n",
       " -0.7132484033425617\n",
       "  0.26726811212437895\n",
       "  0.2816810256619532\n",
       "  2.3582248044489442\n",
       "  0.1557272526307243\n",
       " -0.865807985466277\n",
       "  0.4921350247578587\n",
       " -0.34832547509745365\n",
       " -0.28617784736518287\n",
       " -0.0888387520481498"
      ]
     },
     "execution_count": 13,
     "metadata": {},
     "output_type": "execute_result"
    }
   ],
   "source": [
    "# create a 1-second signal sampled at 20 kHz\n",
    "x = signal(randn(20000), 20kHz)\n",
    "\n",
    "# get a signal segment from 0.25 to 0.5 seconds:\n",
    "y = x[0.25:0.5s]"
   ]
  },
  {
   "cell_type": "code",
   "execution_count": 9,
   "id": "d6e3a104-4531-41d5-b153-b77b81e13059",
   "metadata": {},
   "outputs": [],
   "source": [
    "using CairoMakie\n",
    "using Distributions\n",
    "\n",
    "\n"
   ]
  },
  {
   "cell_type": "code",
   "execution_count": 7,
   "id": "cda70c69-76ef-4f58-9017-1fdfd0abdbae",
   "metadata": {},
   "outputs": [
    {
     "data": {
      "image/png": "[encoded data removed]"
     },
     "execution_count": 7,
     "metadata": {},
     "output_type": "execute_result"
    }
   ],
   "source": [
    "f, ax, b = barplot(\n",
    "    DiscreteUniform(1, 6);\n",
    "    axis=(;\n",
    "        title=\"6-sided Dice\",\n",
    "        xlabel=L\"\\theta\",\n",
    "        ylabel=\"Mass\",\n",
    "        xticks=1:6,\n",
    "        limits=(nothing, nothing, 0, 0.3),\n",
    "    ),\n",
    ")"
   ]
  },
  {
   "cell_type": "code",
   "execution_count": 14,
   "id": "11361b30-d075-47e2-9ccb-e9bc56aa6b2a",
   "metadata": {},
   "outputs": [],
   "source": [
    "using LaTeXStrings\n"
   ]
  },
  {
   "cell_type": "code",
   "execution_count": 15,
   "id": "82cf337d-c11b-4e32-8860-b34afed6d624",
   "metadata": {},
   "outputs": [
    {
     "data": {
      "text/plain": [
       "LaTeX_Strings (generic function with 1 method)"
      ]
     },
     "execution_count": 15,
     "metadata": {},
     "output_type": "execute_result"
    }
   ],
   "source": [
    "function LaTeX_Strings()\n",
    "    x = 0:0.05:4π\n",
    "    lines(x, x -> sin(3x) / (cos(x) + 2) / x;\n",
    "        label=L\"\\frac{\\sin(3x)}{x(\\cos(x)+2)}\",\n",
    "        figure=(; resolution=(600, 400)), axis=(; xlabel=L\"x\")\n",
    "        )\n",
    "    lines!(x, x -> cos(x) / x; label=L\"\\cos(x)/x\")\n",
    "    lines!(x, x -> exp(-x); label=L\"e^{-x}\")\n",
    "    limits!(-0.5, 13, -0.6, 1.05)\n",
    "    axislegend(L\"f(x)\")\n",
    "    current_figure()\n",
    "end"
   ]
  },
  {
   "cell_type": "code",
   "execution_count": 16,
   "id": "7c78f775-38fe-4673-8bca-cb59007983fd",
   "metadata": {},
   "outputs": [
    {
     "ename": "LoadError",
     "evalue": "UndefVarError: `publication_theme` not defined",
     "output_type": "error",
     "traceback": [
      "UndefVarError: `publication_theme` not defined",
      "",
      "Stacktrace:",
      " [1] top-level scope",
      "   @ In[16]:1"
     ]
    }
   ],
   "source": [
    "with_theme(LaTeX_Strings, publication_theme())"
   ]
  },
  {
   "cell_type": "code",
   "execution_count": null,
   "id": "33ad40bc-7de8-4722-b3e4-9447a4bf9a4a",
   "metadata": {},
   "outputs": [],
   "source": []
  }
 ],
 "metadata": {
  "kernelspec": {
   "display_name": "Julia 1.9.3",
   "language": "julia",
   "name": "julia-1.9"
  },
  "language_info": {
   "file_extension": ".jl",
   "mimetype": "application/julia",
   "name": "julia",
   "version": "1.9.3"
  }
 },
 "nbformat": 4,
 "nbformat_minor": 5
}
